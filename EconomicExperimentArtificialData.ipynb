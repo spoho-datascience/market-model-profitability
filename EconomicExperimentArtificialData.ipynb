{
 "cells": [
  {
   "cell_type": "markdown",
   "metadata": {},
   "source": [
    "# Economic Experiment"
   ]
  },
  {
   "cell_type": "markdown",
   "metadata": {},
   "source": [
    "Add description of the experiment here"
   ]
  },
  {
   "cell_type": "markdown",
   "metadata": {},
   "source": [
    "## Import Statements"
   ]
  },
  {
   "cell_type": "code",
   "execution_count": null,
   "metadata": {
    "jupyter": {
     "outputs_hidden": false
    },
    "pycharm": {
     "name": "#%%\n"
    }
   },
   "outputs": [],
   "source": [
    "from dfg_rating.model import factory\n",
    "from dfg_rating.model.betting.betting import FixedBetting\n",
    "from dfg_rating.model.betting.betting import KellyBetting\n",
    "from dfg_rating.model.bookmaker.base_bookmaker import BaseBookmaker\n",
    "from dfg_rating.model.evaluators.accuracy import RankProbabilityScore, Likelihood, ProbabilityDifference, ProbabilityPointer, FavouriteProbability\n",
    "from dfg_rating.model.evaluators.profitability import BettingReturnsEvaluator\n",
    "from dfg_rating.model.evaluators.base_evaluators import BettingActivity\n",
    "from dfg_rating.model.forecast.true_forecast import LogFunctionForecast\n",
    "from dfg_rating.model.network.base_network import BaseNetwork\n",
    "from dfg_rating.model.rating.controlled_trend_rating import ControlledTrendRating, ControlledRandomFunction\n",
    "\n",
    "#specify rating error\n",
    "from dfg_rating.model.rating.base_rating import RatingFunctionError\n",
    "\n",
    "from dfg_rating.logic.controller import Controller\n",
    "import pandas as pd\n",
    "import numpy as np\n",
    "import time\n",
    "import math\n",
    "from tqdm import tqdm\n",
    "import itertools as it\n",
    "\n",
    "pd.set_option('display.max_columns', None)\n",
    "pd.set_option('display.max_rows', None)\n",
    "pd.options.display.width = None\n",
    "pd.set_option('display.float_format', lambda x: '%.5f' % x)"
   ]
  },
  {
   "cell_type": "markdown",
   "metadata": {},
   "source": [
    "## Experiment configuration"
   ]
  },
  {
   "cell_type": "markdown",
   "metadata": {},
   "source": [
    "Two main things: The controller is the helper that includes the functions to load and save networks. A configuration object with the parameters of the experiment, more cells can be created with different configurations."
   ]
  },
  {
   "cell_type": "code",
   "execution_count": null,
   "metadata": {
    "jupyter": {
     "outputs_hidden": false
    },
    "pycharm": {
     "name": "#%%\n"
    }
   },
   "outputs": [],
   "source": [
    "main_controller = Controller()"
   ]
  },
  {
   "cell_type": "code",
   "execution_count": null,
   "metadata": {},
   "outputs": [],
   "source": [
    "experimentHA = dict(\n",
    "    test_name=\"ExperimentHA\", create_data=True,\n",
    "    bookmaker_error1 = 0.0, bookmaker_margin1 = 0.00,\n",
    "    bookmaker_error2 = 0.0, bookmaker_margin2 = 0.10,\n",
    "    bookmaker_error3 = 0.0, bookmaker_margin3 = 0.20,\n",
    "    betting_bankrole=100,\n",
    "    rating_error_loc=0, rating_error_scale=50,\n",
    "    bookmaker_rating_error_loc=0, bookmaker_rating_error_scale=25,\n",
    "    number_of_leagues=40,\n",
    "    number_of_teams=20,\n",
    "    number_of_seasons=10,\n",
    "    true_forecast=dict(\n",
    "        coefficients=[-0.9,0.3],\n",
    "        beta=0.006\n",
    "    ),\n",
    "    bookmaker_forecast=dict(\n",
    "        coefficients=[-1.2, 0.0],\n",
    "        beta=0.006\n",
    "    ),\n",
    "    in_sample_maximum=5,\n",
    ")"
   ]
  },
  {
   "cell_type": "code",
   "execution_count": null,
   "metadata": {},
   "outputs": [],
   "source": [
    "experimentDraw = dict(\n",
    "    test_name=\"ExperimentDraw\", create_data=True,\n",
    "    bookmaker_error1 = 0.0, bookmaker_margin1 = 0.00,\n",
    "    bookmaker_error2 = 0.0, bookmaker_margin2 = 0.10,\n",
    "    bookmaker_error3 = 0.0, bookmaker_margin3 = 0.20,\n",
    "    betting_bankrole=100,\n",
    "    rating_error_loc=0, rating_error_scale=50,\n",
    "    bookmaker_rating_error_loc=0, bookmaker_rating_error_scale=25,\n",
    "    number_of_leagues=40,\n",
    "    number_of_teams=20, number_of_seasons=10,\n",
    "    true_forecast=dict(\n",
    "        coefficients=[-0.9,0.3],\n",
    "        beta=0.006\n",
    "    ),\n",
    "    bookmaker_forecast=dict(\n",
    "        coefficients=[-0.8, 0.2],\n",
    "        beta=0.006\n",
    "    ),\n",
    "    in_sample_maximum=5,\n",
    ")"
   ]
  },
  {
   "cell_type": "code",
   "execution_count": null,
   "metadata": {},
   "outputs": [],
   "source": [
    "experimentFL = dict(\n",
    "    test_name=\"ExperimentFL\", create_data=True,\n",
    "    bookmaker_error1 = 0.0, bookmaker_margin1 = 0.00,\n",
    "    bookmaker_error2 = 0.0, bookmaker_margin2 = 0.10,\n",
    "    bookmaker_error3 = 0.0, bookmaker_margin3 = 0.20,\n",
    "    betting_bankrole=100,\n",
    "    rating_error_loc=0, rating_error_scale=50,\n",
    "    bookmaker_rating_error_loc=0, bookmaker_rating_error_scale=25,\n",
    "    number_of_leagues=40,\n",
    "    number_of_teams=20, number_of_seasons=10,\n",
    "    true_forecast=dict(\n",
    "        coefficients=[-0.9,0.3],\n",
    "        beta=0.006\n",
    "    ),\n",
    "    bookmaker_forecast=dict(\n",
    "        coefficients=[-0.8, 0.4],\n",
    "        beta=0.004\n",
    "    ),\n",
    "    in_sample_maximum=5,\n",
    ")"
   ]
  },
  {
   "cell_type": "markdown",
   "metadata": {},
   "source": [
    "### !!Select the right config"
   ]
  },
  {
   "cell_type": "code",
   "execution_count": null,
   "metadata": {},
   "outputs": [],
   "source": [
    "# The desired config is stored at config\n",
    "config = experimentHA"
   ]
  },
  {
   "cell_type": "markdown",
   "metadata": {
    "tags": []
   },
   "source": [
    "## External actors"
   ]
  },
  {
   "cell_type": "markdown",
   "metadata": {},
   "source": [
    "We create several bookmakers and a betting strategy that are going to interact with the generated networks."
   ]
  },
  {
   "cell_type": "code",
   "execution_count": null,
   "metadata": {
    "tags": []
   },
   "outputs": [],
   "source": [
    "bookmaker1: BaseBookmaker = factory.new_bookmaker(\n",
    "    'simple',\n",
    "    error=factory.new_forecast_error(error_type='factor', error=config[\"bookmaker_error1\"], scope='positive'),\n",
    "    margin=factory.new_bookmaker_margin('simple', margin=config[\"bookmaker_margin1\"])\n",
    ")\n",
    "bookmaker2: BaseBookmaker = factory.new_bookmaker(\n",
    "    'simple',\n",
    "    error=factory.new_forecast_error(error_type='factor', error=config[\"bookmaker_error2\"], scope='positive'),\n",
    "    margin=factory.new_bookmaker_margin('simple', margin=config[\"bookmaker_margin2\"])\n",
    ")\n",
    "bookmaker3: BaseBookmaker = factory.new_bookmaker(\n",
    "    'simple',\n",
    "    error=factory.new_forecast_error(error_type='factor', error=config[\"bookmaker_error3\"], scope='positive'),\n",
    "    margin=factory.new_bookmaker_margin('simple', margin=config[\"bookmaker_margin3\"])\n",
    ")"
   ]
  },
  {
   "cell_type": "code",
   "execution_count": null,
   "metadata": {
    "tags": []
   },
   "outputs": [],
   "source": [
    "bettingFixed = FixedBetting(config[\"betting_bankrole\"])\n",
    "bettingKelly = KellyBetting(config[\"betting_bankrole\"])"
   ]
  },
  {
   "cell_type": "markdown",
   "metadata": {},
   "source": [
    "We also create an error rating that we are going to use for the calculated forecasts"
   ]
  },
  {
   "cell_type": "code",
   "execution_count": null,
   "metadata": {
    "tags": []
   },
   "outputs": [],
   "source": [
    "rating_error = RatingFunctionError(error='normal', loc=config[\"rating_error_loc\"], scale=config[\"rating_error_scale\"])\n",
    "rating_error_bookmaker = RatingFunctionError(error='normal', loc=config[\"bookmaker_rating_error_loc\"], scale=config[\"bookmaker_rating_error_scale\"])"
   ]
  },
  {
   "cell_type": "markdown",
   "metadata": {},
   "source": [
    "## Generation of networks"
   ]
  },
  {
   "cell_type": "markdown",
   "metadata": {},
   "source": [
    "Configure the number of leagues for the experiment:"
   ]
  },
  {
   "cell_type": "code",
   "execution_count": null,
   "metadata": {
    "tags": []
   },
   "outputs": [],
   "source": [
    "numberLeagues = config[\"number_of_leagues\"]"
   ]
  },
  {
   "cell_type": "markdown",
   "metadata": {},
   "source": [
    "For every league, we generate the schedule of matches and true dimensions and we add odds for each game."
   ]
  },
  {
   "cell_type": "code",
   "execution_count": null,
   "metadata": {},
   "outputs": [],
   "source": [
    "networks = []"
   ]
  },
  {
   "cell_type": "code",
   "execution_count": null,
   "metadata": {
    "tags": []
   },
   "outputs": [],
   "source": [
    "gen_start_time = time.time()\n",
    "for league in range(numberLeagues):\n",
    "    if config[\"create_data\"]:\n",
    "        network: BaseNetwork = factory.new_network(\n",
    "            'multiple-round-robin',\n",
    "            teams=config[\"number_of_teams\"],\n",
    "            days_between_rounds=7,\n",
    "            seasons=config[\"number_of_seasons\"],\n",
    "            league_teams=config[\"number_of_teams\"],\n",
    "            league_promotion=0,\n",
    "            create=True,\n",
    "            true_forecast=LogFunctionForecast(\n",
    "                outcomes=['home', 'draw', 'away'], \n",
    "                coefficients = config[\"true_forecast\"][\"coefficients\"], \n",
    "                beta_parameter=config[\"true_forecast\"][\"beta\"]\n",
    "            ),\n",
    "            true_rating=ControlledTrendRating(\n",
    "                starting_point=ControlledRandomFunction(distribution='normal', loc=1000, scale=100),\n",
    "                delta=ControlledRandomFunction(distribution='normal', loc=0, scale=3),\n",
    "                trend=ControlledRandomFunction(distribution='normal', loc=0, scale=20/365),\n",
    "                season_delta=ControlledRandomFunction(distribution='normal', loc=0, scale=10)\n",
    "            )\n",
    "        )\n",
    "        #adding biased bookmaker forecast to the network\n",
    "        network.add_forecast(\n",
    "            forecast=LogFunctionForecast(\n",
    "                outcomes=['home', 'draw', 'away'], \n",
    "                coefficients = config[\"bookmaker_forecast\"][\"coefficients\"], \n",
    "                beta_parameter=config[\"bookmaker_forecast\"][\"beta\"], \n",
    "                home_team_error=rating_error_bookmaker, \n",
    "                away_team_error=rating_error_bookmaker\n",
    "            ),\n",
    "            forecast_name='bookmaker_forecast',\n",
    "            base_ranking='true_rating'\n",
    "        )\n",
    "        #adding odds    \n",
    "        network.add_odds(\n",
    "            bookmaker_name=\"bm1\",\n",
    "            bookmaker=bookmaker1,\n",
    "            base_forecast='bookmaker_forecast'\n",
    "        )\n",
    "        network.add_odds(\n",
    "            bookmaker_name=\"bm2\",\n",
    "            bookmaker=bookmaker2,\n",
    "            base_forecast='bookmaker_forecast'\n",
    "        )\n",
    "        network.add_odds(\n",
    "            bookmaker_name=\"bm3\",\n",
    "            bookmaker=bookmaker3,\n",
    "            base_forecast='bookmaker_forecast'\n",
    "        )\n",
    "    else:\n",
    "        print(\"Loading network data\")\n",
    "        main_controller.load_network_from_sql(\n",
    "            network_name=f\"{config['test_name']}_network_{league}\",\n",
    "            new_network_name=f\"{config['test_name']}_network_{league}\"\n",
    "        )\n",
    "        network: BaseNetwork = main_controller.networks[f\"{config['test_name']}_network_{league}\"]\n",
    "    networks.append(network)\n",
    "print(f\"{numberLeagues} leagues added in {float(time.time() - gen_start_time)} seconds.\")"
   ]
  },
  {
   "cell_type": "markdown",
   "metadata": {},
   "source": [
    "# Run"
   ]
  },
  {
   "cell_type": "markdown",
   "metadata": {},
   "source": [
    "We iterate over the grid of possible parameters for the experiment and aggregate the final results."
   ]
  },
  {
   "cell_type": "markdown",
   "metadata": {},
   "source": [
    "### Functions"
   ]
  },
  {
   "cell_type": "code",
   "execution_count": null,
   "metadata": {
    "tags": []
   },
   "outputs": [],
   "source": [
    "def aggregate_measures(list_of_matches, prefix='', addBettingMetrics=True):\n",
    "    measures = {\n",
    "        prefix+'_rps': np.mean([m[3]['metrics']['rps'] for m in list_of_matches]),\n",
    "        prefix+'_likelihood': sum([m[3]['metrics']['likelihood'] for m in list_of_matches]),\n",
    "        prefix+'_prob_diff': np.mean([m[3]['metrics']['prob_diff'] for m in list_of_matches]),\n",
    "        prefix+'_draw_prob': np.mean([m[3]['metrics']['draw_prob'] for m in list_of_matches]),\n",
    "        prefix+'_fav_prob': np.mean([m[3]['metrics']['fav_prob'] for m in list_of_matches])\n",
    "    }\n",
    "    if addBettingMetrics:\n",
    "        for m in list_of_matches:\n",
    "            betting_returns_keys = [k for k in m[3]['metrics'].keys() if k.startswith('betting_returns')]\n",
    "            betting_activity_keys = [k for k in m[3]['metrics'].keys() if k.startswith('betting_activity')]\n",
    "            for br in betting_returns_keys:\n",
    "                measures[f\"{prefix}_{br}\"] = sum([b[0] for b in m[3]['metrics'][br]]) + measures.get(f\"{prefix}_{br}\", 0.0)\n",
    "                measures[f\"{prefix}_{br}_expected\"] = sum([b[2] for b in m[3]['metrics'][br]]) + measures.get(f\"{prefix}_{br}_expected\", 0.0)\n",
    "            for ba in betting_activity_keys:\n",
    "                measures[f\"{prefix}_{ba}_activity\"] = m[3]['metrics'][ba]['qty'] + measures.get(f\"{prefix}_{ba}_activity\", 0.0)\n",
    "    return measures"
   ]
  },
  {
   "cell_type": "markdown",
   "metadata": {},
   "source": [
    "Getting first the values for the true model and the bookmaker model. Remove some of the if they are not needed and if the IS/OOS split is not required."
   ]
  },
  {
   "cell_type": "code",
   "execution_count": null,
   "metadata": {
    "tags": []
   },
   "outputs": [],
   "source": [
    "entire_model_values = {}\n",
    "for forecast_pointer in ['true_forecast', 'bookmaker_forecast']:\n",
    "    all_matches =  []\n",
    "    is_matches =  []\n",
    "    oos_matches =  []\n",
    "    for network in tqdm(networks):\n",
    "        rps = RankProbabilityScore(outcomes=['home', 'draw', 'away'], forecast_name = forecast_pointer)\n",
    "        likelihood = Likelihood(outcomes=['home', 'draw', 'away'], forecast_name = forecast_pointer)\n",
    "        difference = ProbabilityDifference(outcomes=['home', 'draw', 'away'], forecast_name = forecast_pointer)\n",
    "        draw_probability = ProbabilityPointer(outcomes=['home', 'draw', 'away'], forecast_name = forecast_pointer, probability_index=1)\n",
    "        fav_probability = FavouriteProbability(outcomes=['home', 'draw', 'away'], forecast_name = forecast_pointer)\n",
    "        network.add_evaluation([\n",
    "            (rps, 'rps'),\n",
    "            (likelihood, 'likelihood'),\n",
    "            (difference, 'prob_diff'),\n",
    "            (draw_probability, 'draw_prob'),\n",
    "            (fav_probability, 'fav_prob')\n",
    "        ])\n",
    "        all_matches += [(a,h, match_id, match_attributes) for a,h, match_id, match_attributes in network.iterate_over_games()]\n",
    "        is_matches += [(a,h, match_id, match_attributes) for a,h, match_id, match_attributes in network.iterate_over_games() if match_attributes['season'] < 6]\n",
    "        oos_matches += [(a,h, match_id, match_attributes) for a,h, match_id, match_attributes in network.iterate_over_games() if match_attributes['season'] > 5]\n",
    "\n",
    "    result_all = aggregate_measures(all_matches, f'all_{forecast_pointer}', False)\n",
    "    result_is = aggregate_measures(is_matches, f'is_{forecast_pointer}', False)\n",
    "    result_oos = aggregate_measures(oos_matches, f'oos_{forecast_pointer}', False)\n",
    "    entire_model_values = {\n",
    "        **entire_model_values,\n",
    "        **result_is, **result_oos, **result_all\n",
    "    }"
   ]
  },
  {
   "cell_type": "markdown",
   "metadata": {},
   "source": [
    "### Initialization of results and cross validation output"
   ]
  },
  {
   "cell_type": "code",
   "execution_count": null,
   "metadata": {},
   "outputs": [],
   "source": [
    "result_list = []\n",
    "cv_result = []"
   ]
  },
  {
   "cell_type": "markdown",
   "metadata": {},
   "source": [
    "### Main loop"
   ]
  },
  {
   "cell_type": "code",
   "execution_count": null,
   "metadata": {},
   "outputs": [],
   "source": [
    "experiment_start_time = time.time()\n",
    "for c0 in np.arange(-1.20, -0.60, 0.1):\n",
    "    for c1 in np.arange(0.0, 0.60, 0.1):\n",
    "        for beta in np.arange(0.002, 0.010, 0.002):\n",
    "            print(f'Variables: c0: {c0}, c1: {c1} and beta: {beta}')\n",
    "            forecast_pointer = f\"player_forecast_{c0:.2f}_{c1:.2f}_{beta:.3f}\"\n",
    "            cell_start_time = time.time()\n",
    "            all_matches =  []\n",
    "            is_matches =  []\n",
    "            oos_matches =  []\n",
    "            \n",
    "            bm_start_time = time.time()\n",
    "            for network_number, network in enumerate(networks):\n",
    "                if config[\"create_data\"]:\n",
    "                    network.add_forecast(\n",
    "                        forecast=LogFunctionForecast(outcomes=['home', 'draw', 'away'], coefficients=[c0, c1], beta_parameter=beta, home_team_error=rating_error, away_team_error=rating_error),\n",
    "                        forecast_name=forecast_pointer,\n",
    "                        base_ranking='true_rating'\n",
    "                    )\n",
    "                for betting, bettingName in [(bettingFixed, \"Fixed\"), (bettingKelly, \"Kelly\")]:\n",
    "                #for betting, bettingName in [(bettingKelly, \"Kelly\")]:\n",
    "                    for i in [1, 2, 3]:\n",
    "                    #for i in [1]:\n",
    "                        #Pointer of each bookmaker\n",
    "                        bookmaker = 'bm' + str(i)\n",
    "                        bettor = 'b' + str(i)\n",
    "                        network.add_bets(\n",
    "                            bettor_name=bettor,\n",
    "                            bookmaker=bookmaker,\n",
    "                            betting=betting,\n",
    "                            base_forecast=forecast_pointer\n",
    "                        )\n",
    "                        # Bettors can be added and then we can extract all the results at once\n",
    "                        betting_activity = BettingActivity(outcomes=['home', 'draw', 'away'], player_name = bettor)\n",
    "                        betting_returns = BettingReturnsEvaluator(outcomes=['home', 'draw', 'away'], player_name = bettor, true_model = 'true_forecast', bookmaker_name = bookmaker)\n",
    "                        network.add_evaluation([\n",
    "                            (betting_returns, f'betting_returns_{bettingName}_{bookmaker}'),\n",
    "                            (betting_activity, f'betting_activity_{bettingName}_{bookmaker}')\n",
    "                        ])\n",
    "\n",
    "                rps = RankProbabilityScore(outcomes=['home', 'draw', 'away'], forecast_name = forecast_pointer)\n",
    "                likelihood = Likelihood(outcomes=['home', 'draw', 'away'], forecast_name = forecast_pointer)\n",
    "                difference = ProbabilityDifference(outcomes=['home', 'draw', 'away'], forecast_name = forecast_pointer)\n",
    "                draw_probability = ProbabilityPointer(outcomes=['home', 'draw', 'away'], forecast_name = forecast_pointer, probability_index=1)\n",
    "                fav_probability = FavouriteProbability(outcomes=['home', 'draw', 'away'], forecast_name = forecast_pointer)\n",
    "                        \n",
    "                network.add_evaluation(\n",
    "                    [\n",
    "                        (rps, 'rps'),\n",
    "                        (likelihood, 'likelihood'),\n",
    "                        (difference, 'prob_diff'),\n",
    "                        (draw_probability, 'draw_prob'),\n",
    "                        (fav_probability, 'fav_prob')\n",
    "                    ]\n",
    "                )\n",
    "\n",
    "                all_matches += [(a,h, match_id, match_attributes) for a,h, match_id, match_attributes in network.iterate_over_games()]\n",
    "                is_matches += [(a,h, match_id, match_attributes) for a,h, match_id, match_attributes in network.iterate_over_games() if match_attributes['season'] <= config[\"in_sample_maximum\"]]\n",
    "                oos_matches += [(a,h, match_id, match_attributes) for a,h, match_id, match_attributes in network.iterate_over_games() if match_attributes['season'] > config[\"in_sample_maximum\"]]\n",
    "\n",
    "            print(f\"BMs finished in {float(time.time() - bm_start_time)} seconds\")\n",
    "             \n",
    "            am_start_time = time.time()\n",
    "            result_all = aggregate_measures(all_matches, 'all')\n",
    "            result_is = aggregate_measures(is_matches, 'is')\n",
    "            result_oos = aggregate_measures(oos_matches, 'oos')\n",
    "            result = {\n",
    "                'bookmaker': bookmaker, 'c0' : c0, 'c1' : c1, 'beta' : beta, **result_is, **result_oos, **result_all, **entire_model_values\n",
    "            }\n",
    "                    \n",
    "            result_list.append(result)\n",
    "            print(f\"Aggregation finished in {float(time.time() - am_start_time)} seconds\")    \n",
    "                               \n",
    "            print(f\"Finished in {float(time.time() - cell_start_time)} seconds\")\n",
    "\n",
    "print(f\"Experiment finished in {float(time.time() - experiment_start_time)} seconds with {len(result_list)} observations.\")\n",
    "\n",
    "df = pd.DataFrame(result_list)\n",
    "df.to_excel(f\"Results_{config['test_name']}.xlsx\")\n",
    "\n",
    "if config[\"create_data\"]:\n",
    "    print(\"Saving data with the all the forecasts added\")\n",
    "    for network_number, network in tqdm(enumerate(networks)):\n",
    "        main_controller.networks[f\"{config['test_name']}_network_{network_number}\"] = network\n",
    "        main_controller.save_network(f\"{config['test_name']}_network_{network_number}\")\n",
    "            "
   ]
  },
  {
   "cell_type": "code",
   "execution_count": null,
   "metadata": {},
   "outputs": [],
   "source": []
  }
 ],
 "metadata": {
  "kernelspec": {
   "display_name": "Python 3",
   "language": "python",
   "name": "python3"
  },
  "language_info": {
   "codemirror_mode": {
    "name": "ipython",
    "version": 3
   },
   "file_extension": ".py",
   "mimetype": "text/x-python",
   "name": "python",
   "nbconvert_exporter": "python",
   "pygments_lexer": "ipython3",
   "version": "3.7.7"
  },
  "vscode": {
   "interpreter": {
    "hash": "757f68f4b9fb7f25c349de3b55a0c635861fbf8f251827204722ead8bc499c2f"
   }
  }
 },
 "nbformat": 4,
 "nbformat_minor": 5
}
