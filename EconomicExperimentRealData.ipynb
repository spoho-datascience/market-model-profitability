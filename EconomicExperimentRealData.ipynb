{
 "cells": [
  {
   "cell_type": "markdown",
   "metadata": {},
   "source": [
    "### Import"
   ]
  },
  {
   "cell_type": "code",
   "execution_count": null,
   "metadata": {},
   "outputs": [],
   "source": [
    "import os\n",
    "import itertools\n",
    "import time\n",
    "import pandas as pd\n",
    "import numpy as np\n",
    "import random\n",
    "import copy\n",
    "\n",
    "from dfg_rating.model import factory\n",
    "import dfg_rating.viz.jupyter_widgets as DFGViz\n",
    "\n",
    "from dfg_rating.model.rating.elo_rating import ELORating\n",
    "from dfg_rating.model.network.base_network import WhiteNetwork\n",
    "from dfg_rating.model.forecast.true_forecast import LogFunctionForecast\n",
    "from dfg_rating.model.rating.controlled_trend_rating import ControlledTrendRating, ControlledRandomFunction\n",
    "\n",
    "\n",
    "from dfg_rating.model.betting.betting import FixedBetting, KellyBetting, ThresholdBetting\n",
    "from dfg_rating.model.bookmaker.base_bookmaker import BaseBookmaker\n",
    "from dfg_rating.model.evaluators.accuracy import RankProbabilityScore, Likelihood, ProbabilityDifference, ProbabilityPointer, FavouriteProbability\n",
    "from dfg_rating.model.evaluators.profitability import BettingReturnsEvaluator\n",
    "from dfg_rating.model.evaluators.base_evaluators import BettingActivity\n",
    "\n",
    "\n",
    "pd.set_option('display.max_columns', None)\n",
    "pd.set_option('display.max_rows', None)\n",
    "pd.options.display.width = None\n",
    "pd.set_option('display.float_format', lambda x: '%.5f' % x)"
   ]
  },
  {
   "cell_type": "markdown",
   "metadata": {},
   "source": [
    "### Loading real data"
   ]
  },
  {
   "cell_type": "code",
   "execution_count": null,
   "metadata": {},
   "outputs": [],
   "source": [
    "#load real-world football data (~65000 matches)\n",
    "data_football_national = pd.read_csv(os.path.join('..', '..', '..', 'data', 'real', 'Data_Football_Economic_Paper_vfinal.csv'),sep = \";\")\n"
   ]
  },
  {
   "cell_type": "code",
   "execution_count": null,
   "metadata": {
    "tags": []
   },
   "outputs": [],
   "source": [
    "football_network = WhiteNetwork(\n",
    "    data=data_football_national,\n",
    "    #node1 = away\n",
    "    mapping={\n",
    "        \"node1\": {\n",
    "            \"id\": \"AwayID\",\n",
    "            \"name\": \"AwayTeam\",\n",
    "        },\n",
    "        \"node2\": {\n",
    "            \"id\": \"HomeID\",\n",
    "            \"name\": \"HomeTeam\",\n",
    "        },\n",
    "        \"day\": \"Date\",\n",
    "        \"dayIsTimestamp\": True,\n",
    "        \"ts_format\": \"%d.%m.%Y\",\n",
    "        \"tournament\": \"Div\",\n",
    "        \"season\": \"Season\",\n",
    "        \"winner\": {\n",
    "            \"result\": \"ResultFT\",\n",
    "            \"translation\": {\n",
    "                \"H\": \"home\",\n",
    "                \"D\": \"draw\",\n",
    "                \"A\": \"away\"\n",
    "            }\n",
    "        },\n",
    "        \"round\": \"day\",\n",
    "        \"odds\": {\n",
    "            \"maximumodds\": {\n",
    "                \"home\": \"OddsHomeMax\",\n",
    "                \"draw\": \"OddsDrawMax\",\n",
    "                \"away\": \"OddsAwayMax\"\n",
    "            },\n",
    "            \"averageodds\": {\n",
    "                \"home\": \"OddsHomeAvg\",\n",
    "                \"draw\": \"OddsDrawAvg\",\n",
    "                \"away\": \"OddsAwayAvg\"\n",
    "            },\n",
    "        },\n",
    "        \"bets\": {}\n",
    "    }\n",
    ")"
   ]
  },
  {
   "cell_type": "markdown",
   "metadata": {},
   "source": [
    "### Inside loop functions"
   ]
  },
  {
   "cell_type": "code",
   "execution_count": null,
   "metadata": {},
   "outputs": [],
   "source": [
    "def add_elo_rating(k, n, name):\n",
    "    n.add_rating(\n",
    "    rating=ELORating(\n",
    "        trained=True, \n",
    "        rating_name=name,\n",
    "        **{\n",
    "            'param_c' : 10,\n",
    "            'param_d' : 400,\n",
    "            'param_k' : k,\n",
    "            'param_w' : 80\n",
    "        }\n",
    "    ),\n",
    "    rating_name=name\n",
    ")"
   ]
  },
  {
   "cell_type": "code",
   "execution_count": null,
   "metadata": {},
   "outputs": [],
   "source": [
    "def aggregate_measures(list_of_matches, prefix=''):\n",
    "    \n",
    "    betting_returns = sum([sum([b[0] for b in m[3]['metrics']['betting_returns']]) for m in list_of_matches])\n",
    "    betting_activity = sum([m[3]['metrics']['betting_activity']['qty'] for m in list_of_matches])\n",
    "\n",
    "    return {\n",
    "        prefix+'_rps': np.mean([m[3]['metrics']['rps'] for m in list_of_matches]),\n",
    "        prefix+'_likelihood': sum([m[3]['metrics']['likelihood'] for m in list_of_matches]),\n",
    "        prefix+'_prob_diff': np.mean([m[3]['metrics']['prob_diff'] for m in list_of_matches]),\n",
    "        prefix+'_draw_prob': np.mean([m[3]['metrics']['draw_prob'] for m in list_of_matches]),\n",
    "        prefix+'_fav_prob': np.mean([m[3]['metrics']['fav_prob'] for m in list_of_matches]),\n",
    "        prefix+'_betting_returns': betting_returns,\n",
    "        prefix+'_betting_returns_expected': sum([sum(b[1] for b in m[3]['metrics']['betting_returns']) for m in list_of_matches]),\n",
    "        prefix+'_betting_activity': betting_activity,\n",
    "        prefix+'_betting_returns_per_bet': betting_returns/betting_activity\n",
    "    }"
   ]
  },
  {
   "cell_type": "markdown",
   "metadata": {
    "tags": []
   },
   "source": [
    "## Betting config"
   ]
  },
  {
   "cell_type": "markdown",
   "metadata": {},
   "source": [
    "We create a bookmaker and a betting strategy that are going to interact with the generated networks."
   ]
  },
  {
   "cell_type": "code",
   "execution_count": null,
   "metadata": {
    "tags": []
   },
   "outputs": [],
   "source": [
    "#to be changed dependent on what strategy should be tested\n",
    "betting = KellyBetting(100)\n"
   ]
  },
  {
   "cell_type": "markdown",
   "metadata": {},
   "source": [
    "### Loops of parameters to be tested"
   ]
  },
  {
   "cell_type": "code",
   "execution_count": null,
   "metadata": {},
   "outputs": [],
   "source": [
    "k_options = range(20,25,5)\n",
    "c0_options = np.arange(-1.2, -0.7, 0.1)\n",
    "c1_options = np.arange(0.0, 0.5, 0.1)\n",
    "beta_options = np.arange(0.004, 0.014, 0.002)"
   ]
  },
  {
   "cell_type": "code",
   "execution_count": null,
   "metadata": {},
   "outputs": [],
   "source": [
    "experiment_start_time = time.time()\n",
    "result_list = []\n",
    "#to store best model specifications for bootstrapping\n",
    "bestLikelihood = float('-inf')\n",
    "matches_oos_Likelihood = []\n",
    "bestBettingReturns = float('-inf')\n",
    "matches_oos_BettingReturns = []\n",
    "\n",
    "for k in k_options:\n",
    "    rating_name = f\"elo_rating_{k}\"\n",
    "    print(f\"Rating <{rating_name}>\")\n",
    "    add_elo_rating(k, football_network, rating_name)\n",
    "    for c0, c1, beta in itertools.product(c0_options, c1_options, beta_options):\n",
    "        print(f'Variables: c0: {c0}, c1: {c1} and beta: {beta}')\n",
    "        forecast_pointer = f\"player_{k}_forecast_{c0:.2f}_{c1:.2f}_{beta:.3f}\"\n",
    "        cell_start_time = time.time()\n",
    "        football_network.add_forecast(\n",
    "            forecast=LogFunctionForecast(\n",
    "                outcomes=['home', 'draw', 'away'], \n",
    "                coefficients=[c0, c1], \n",
    "                beta_parameter=beta\n",
    "            ),\n",
    "            forecast_name=forecast_pointer,\n",
    "            base_ranking=rating_name\n",
    "        )\n",
    "        football_network.add_bets(\n",
    "            bettor_name='b',\n",
    "            bookmaker='maximumodds',\n",
    "            betting=betting,\n",
    "            base_forecast=forecast_pointer\n",
    "        )\n",
    "        rps = RankProbabilityScore(outcomes=['home', 'draw', 'away'], forecast_name=forecast_pointer)\n",
    "        betting_returns = BettingReturnsEvaluator(\n",
    "            outcomes=['home', 'draw', 'away'], \n",
    "            player_name='b', \n",
    "            true_model=forecast_pointer,\n",
    "            bookmaker_name='maximumodds'\n",
    "        )\n",
    "        \n",
    "        betting_activity = BettingActivity(outcomes=['home', 'draw', 'away'], player_name='b')\n",
    "        likelihood = Likelihood(outcomes=['home', 'draw', 'away'], forecast_name=forecast_pointer)\n",
    "        difference = ProbabilityDifference(outcomes=['home', 'draw', 'away'], forecast_name=forecast_pointer)\n",
    "        draw_probability = ProbabilityPointer(outcomes=['home', 'draw', 'away'], forecast_name=forecast_pointer, probability_index=1)\n",
    "        fav_probability = FavouriteProbability(outcomes=['home', 'draw', 'away'], forecast_name=forecast_pointer)\n",
    "\n",
    "        football_network.add_evaluation([\n",
    "            (rps, 'rps'),\n",
    "            (betting_returns, 'betting_returns'),\n",
    "            (betting_activity, 'betting_activity'),\n",
    "            (likelihood, 'likelihood'),\n",
    "            (difference, 'prob_diff'),\n",
    "            (draw_probability, 'draw_prob'),\n",
    "            (fav_probability, 'fav_prob')\n",
    "        ])\n",
    "        all_matches = [(a,h, match_id, match_attributes) for a,h, match_id, match_attributes in football_network.iterate_over_games()]\n",
    "              \n",
    "        matches_oos = [m for m in all_matches if (m[3]['season'] > 1 and m[3]['season'] < 11)]\n",
    "        matches_is = [m for m in all_matches if (m[3]['season'] > 10)]\n",
    "        result_all = aggregate_measures(all_matches, 'all')\n",
    "        result_is = aggregate_measures(matches_is, 'is')\n",
    "        result_oos = aggregate_measures(matches_oos, 'oos')\n",
    "        result = {\n",
    "            'k': k, 'c0' : c0, 'c1' : c1, 'beta' : beta, **result_is, **result_oos, **result_all\n",
    "        }\n",
    "        result_list.append(result)\n",
    "        \n",
    "        #update best results if necessary\n",
    "        if(result_is['is_likelihood'] > bestLikelihood):\n",
    "            bestLikelihood = result_is['is_likelihood']\n",
    "            matches_oos_Likelihood = copy.deepcopy(matches_oos)\n",
    "        if(result_is['is_betting_returns'] > bestBettingReturns):\n",
    "            bestBettingReturns = result_is['is_betting_returns']\n",
    "            matches_oos_BettingReturns = copy.deepcopy(matches_oos)\n",
    "        print(f\"Finished in {float(time.time() - cell_start_time)} seconds\")\n",
    "        \n",
    "print(f\"Experiment finished in {float(time.time() - experiment_start_time)} seconds with {len(result_list)} observations.\")\n",
    "df = pd.DataFrame(result_list)\n",
    "\n",
    "#print best results for each metric\n",
    "print(\"best likelihood :\"+str(bestLikelihood))\n",
    "print(\"best betting returns :\"+str(bestBettingReturns))\n",
    "\n",
    "#calculate bootstrapping confidence intervals for betting returns\n",
    "returns_Likelihood = []\n",
    "returns_BettingReturns = []\n",
    "\n",
    "#extract betting returns per match as a basis for bootstrapping from the data\n",
    "for m in matches_oos_Likelihood:\n",
    "    all_betting_returns = m[3]['metrics']['betting_returns']\n",
    "    actual = [b[0] for b in all_betting_returns]\n",
    "    returns_Likelihood += actual\n",
    "for m in matches_oos_BettingReturns:\n",
    "    all_betting_returns = m[3]['metrics']['betting_returns']\n",
    "    actual = [b[0] for b in all_betting_returns]\n",
    "    returns_BettingReturns += actual\n",
    "\n",
    "returns_Likelihood = np.array(returns_Likelihood)\n",
    "returns_BettingReturns = np.array(returns_BettingReturns)\n",
    "    \n",
    "#testing accuracy (Likelihood) vs. profitability (returns)\n",
    "distribution = []\n",
    "for i in range(100):\n",
    "    distribution.append(np.sum(random.choices(returns_BettingReturns, k=len(returns_BettingReturns))) - np.sum(random.choices(returns_Likelihood, k=len(returns_Likelihood))))\n",
    "print(\"CI 2.5% Likelihood vs. Returns: \"+str(np.quantile(distribution, 0.025)))\n",
    "print(\"CI 5.0% Likelihood vs. Returns: \"+str(np.quantile(distribution, 0.05)))\n",
    "print(\"Difference Likelihood vs. Returns: \"+str(np.sum(returns_BettingReturns) - np.sum(returns_Likelihood)))\n",
    "print(\"CI 95.0% Likelihood vs. Returns: \"+str(np.quantile(distribution, 0.95)))\n",
    "print(\"CI 97.5% Likelihood vs. Returns: \"+str(np.quantile(distribution, 0.975)))\n",
    "print(\"p (1 sided) i.e. % of differences <= 0: \"+str(100*len([i for i in distribution if i <= 0])/len(distribution)))"
   ]
  },
  {
   "cell_type": "code",
   "execution_count": null,
   "metadata": {},
   "outputs": [],
   "source": [
    "df"
   ]
  },
  {
   "cell_type": "code",
   "execution_count": null,
   "metadata": {},
   "outputs": [],
   "source": [
    "df.to_excel(f\"Results_KellyMaximum.xlsx\")"
   ]
  }
 ],
 "metadata": {
  "kernelspec": {
   "display_name": "economic_paper",
   "language": "python",
   "name": "python3"
  },
  "language_info": {
   "codemirror_mode": {
    "name": "ipython",
    "version": 3
   },
   "file_extension": ".py",
   "mimetype": "text/x-python",
   "name": "python",
   "nbconvert_exporter": "python",
   "pygments_lexer": "ipython3",
   "version": "3.7.17"
  }
 },
 "nbformat": 4,
 "nbformat_minor": 5
}
