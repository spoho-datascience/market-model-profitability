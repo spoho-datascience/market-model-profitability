{
 "cells": [
  {
   "cell_type": "markdown",
   "id": "b4af0597",
   "metadata": {},
   "source": [
    "# Economic experiment testing accuracy- vs. profitability-optimised models on artificial data"
   ]
  },
  {
   "cell_type": "markdown",
   "id": "196092bc",
   "metadata": {},
   "source": [
    "## Import"
   ]
  },
  {
   "cell_type": "code",
   "execution_count": null,
   "id": "a68daa11",
   "metadata": {
    "jupyter": {
     "outputs_hidden": false
    },
    "pycharm": {
     "name": "#%%\n"
    }
   },
   "outputs": [],
   "source": [
    "import os\n",
    "import random\n",
    "import numpy as np\n",
    "\n",
    "# Generate reproducible random number generator\n",
    "SEED = 10\n",
    "rng = np.random.default_rng(SEED)\n",
    "\n",
    "from dfg_rating.model import factory\n",
    "from dfg_rating.model.betting.betting import FixedBetting\n",
    "from dfg_rating.model.betting.betting import KellyBetting\n",
    "from dfg_rating.model.bookmaker.base_bookmaker import BaseBookmaker\n",
    "from dfg_rating.model.evaluators.accuracy import RankProbabilityScore, Likelihood, ProbabilityDifference, ProbabilityPointer, FavouriteProbability\n",
    "from dfg_rating.model.evaluators.profitability import BettingReturnsEvaluator\n",
    "from dfg_rating.model.evaluators.base_evaluators import BettingActivity\n",
    "from dfg_rating.model.forecast.true_forecast import LogFunctionForecast\n",
    "from dfg_rating.model.network.base_network import BaseNetwork\n",
    "from dfg_rating.model.rating.controlled_trend_rating import ControlledTrendRating, ControlledRandomFunction\n",
    "from dfg_rating.model.rating.base_rating import RatingFunctionError\n",
    "from dfg_rating.logic.controller import Controller\n",
    "\n",
    "from pathlib import Path\n",
    "\n",
    "import pandas as pd\n",
    "import time\n",
    "import math\n",
    "from tqdm import tqdm\n",
    "import itertools as it\n",
    "\n",
    "pd.set_option('display.max_columns', None)\n",
    "pd.set_option('display.max_rows', None)\n",
    "pd.options.display.width = None\n",
    "pd.set_option('display.float_format', lambda x: '%.5f' % x)"
   ]
  },
  {
   "cell_type": "markdown",
   "id": "0a5d260f",
   "metadata": {},
   "source": [
    "## Specification of the experimental runs (particularly the bias used)"
   ]
  },
  {
   "cell_type": "code",
   "execution_count": null,
   "id": "272ad1fa",
   "metadata": {
    "jupyter": {
     "outputs_hidden": false
    },
    "pycharm": {
     "name": "#%%\n"
    }
   },
   "outputs": [],
   "source": [
    "#The controller is the helper that includes the functions to load and save networks. A configuration object with the parameters of the experiment.\n",
    "main_controller = Controller()"
   ]
  },
  {
   "cell_type": "code",
   "execution_count": null,
   "id": "034870a4",
   "metadata": {},
   "outputs": [],
   "source": [
    "#The first bias is a home advantage bias implicitly contained in the bookmaker_forecast\n",
    "experimentHA = dict(\n",
    "    test_name=\"ExperimentHA\", create_data=True,\n",
    "    bookmaker_error1 = 0.0, bookmaker_margin1 = 0.00,\n",
    "    bookmaker_error2 = 0.0, bookmaker_margin2 = 0.10,\n",
    "    betting_bankrole=100,\n",
    "    rating_error_loc=0, rating_error_scale=50,\n",
    "    bookmaker_rating_error_loc=0, bookmaker_rating_error_scale=25,\n",
    "    number_of_leagues=40,\n",
    "    number_of_teams=20,\n",
    "    number_of_seasons=10,\n",
    "    true_forecast=dict(\n",
    "        coefficients=[-0.9,0.3],\n",
    "        beta=0.006\n",
    "    ),\n",
    "    bookmaker_forecast=dict(\n",
    "        coefficients=[-1.2, 0.0],\n",
    "        beta=0.006\n",
    "    ),\n",
    "    in_sample_maximum=5,\n",
    ")"
   ]
  },
  {
   "cell_type": "code",
   "execution_count": null,
   "id": "4b3a772e",
   "metadata": {},
   "outputs": [],
   "source": [
    "#The second bias is a draw bias implicitly contained in the bookmaker_forecast\n",
    "experimentDraw = dict(\n",
    "    test_name=\"ExperimentDraw\", create_data=True,\n",
    "    bookmaker_error1 = 0.0, bookmaker_margin1 = 0.00,\n",
    "    bookmaker_error2 = 0.0, bookmaker_margin2 = 0.10,\n",
    "    betting_bankrole=100,\n",
    "    rating_error_loc=0, rating_error_scale=50,\n",
    "    bookmaker_rating_error_loc=0, bookmaker_rating_error_scale=25,\n",
    "    number_of_leagues=40,\n",
    "    number_of_teams=20, number_of_seasons=10,\n",
    "    true_forecast=dict(\n",
    "        coefficients=[-0.9,0.3],\n",
    "        beta=0.006\n",
    "    ),\n",
    "    bookmaker_forecast=dict(\n",
    "        coefficients=[-0.8, 0.2],\n",
    "        beta=0.006\n",
    "    ),\n",
    "    in_sample_maximum=5,\n",
    ")"
   ]
  },
  {
   "cell_type": "code",
   "execution_count": null,
   "id": "fcfefd62",
   "metadata": {},
   "outputs": [],
   "source": [
    "#The third bias is a favorite longshot bias implicitly contained in the bookmaker_forecast\n",
    "experimentFL = dict(\n",
    "    test_name=\"ExperimentFL\", create_data=True,\n",
    "    bookmaker_error1 = 0.0, bookmaker_margin1 = 0.00,\n",
    "    bookmaker_error2 = 0.0, bookmaker_margin2 = 0.10,\n",
    "    betting_bankrole=100,\n",
    "    rating_error_loc=0, rating_error_scale=50,\n",
    "    bookmaker_rating_error_loc=0, bookmaker_rating_error_scale=25,\n",
    "    number_of_leagues=40,\n",
    "    number_of_teams=20, number_of_seasons=10,\n",
    "    true_forecast=dict(\n",
    "        coefficients=[-0.9,0.3],\n",
    "        beta=0.006\n",
    "    ),\n",
    "    bookmaker_forecast=dict(\n",
    "        coefficients=[-0.8, 0.4],\n",
    "        beta=0.004\n",
    "    ),\n",
    "    in_sample_maximum=5,\n",
    ")"
   ]
  },
  {
   "cell_type": "markdown",
   "id": "f275a380",
   "metadata": {},
   "source": [
    "### !!Choice of the bias used in the current experimental run !!"
   ]
  },
  {
   "cell_type": "code",
   "execution_count": null,
   "id": "e2e43d8d",
   "metadata": {},
   "outputs": [],
   "source": [
    "# The desired experimental configuration is stored at config\n",
    "config = experimentFL"
   ]
  },
  {
   "cell_type": "markdown",
   "id": "a4aef9b4",
   "metadata": {
    "tags": []
   },
   "source": [
    "### For all runs, different margins and two betting strategies are tested."
   ]
  },
  {
   "cell_type": "markdown",
   "id": "6191ca15",
   "metadata": {},
   "source": [
    "We create several bookmakers and a betting strategy that are going to interact with the generated networks."
   ]
  },
  {
   "cell_type": "code",
   "execution_count": null,
   "id": "5ccecf56",
   "metadata": {
    "tags": []
   },
   "outputs": [],
   "source": [
    "#Two bookmakers are created (just using different margins as specified in the specification)\n",
    "bookmaker1: BaseBookmaker = factory.new_bookmaker(\n",
    "    'simple',\n",
    "    error=factory.new_forecast_error(error_type='factor', error=config[\"bookmaker_error1\"], scope='positive'),\n",
    "    margin=factory.new_bookmaker_margin('simple', margin=config[\"bookmaker_margin1\"])\n",
    ")\n",
    "bookmaker2: BaseBookmaker = factory.new_bookmaker(\n",
    "    'simple',\n",
    "    error=factory.new_forecast_error(error_type='factor', error=config[\"bookmaker_error2\"], scope='positive'),\n",
    "    margin=factory.new_bookmaker_margin('simple', margin=config[\"bookmaker_margin2\"])\n",
    ")\n",
    "\n",
    "#Two betting strategies are used, where one bets fixed stakes and the other one is based on Kelly betting\n",
    "bettingFixed = FixedBetting(config[\"betting_bankrole\"])\n",
    "bettingKelly = KellyBetting(config[\"betting_bankrole\"])\n",
    "\n",
    "#Moreover, the rating errors of forecaster and bookmaker are applied, as specified in the specification\n",
    "rating_error = RatingFunctionError(error='normal', random_number_generator = rng, loc=config[\"rating_error_loc\"], scale=config[\"rating_error_scale\"])\n",
    "rating_error_bookmaker = RatingFunctionError(error='normal', random_number_generator = rng, loc=config[\"bookmaker_rating_error_loc\"], scale=config[\"bookmaker_rating_error_scale\"])\n",
    "\n",
    "#Finally, we use the number of leagues, as specified in the specification\n",
    "numberLeagues = config[\"number_of_leagues\"]"
   ]
  },
  {
   "cell_type": "markdown",
   "id": "2f1b3545",
   "metadata": {},
   "source": [
    "## Generation of artificial data (i.e. competition networks) with the simulation framework"
   ]
  },
  {
   "cell_type": "code",
   "execution_count": null,
   "id": "4b01c751",
   "metadata": {
    "tags": []
   },
   "outputs": [],
   "source": [
    "#For every league, we generate the schedule of matches and true dimensions and we add odds for each game\n",
    "networks = []\n",
    "\n",
    "gen_start_time = time.time()\n",
    "for league in range(numberLeagues):\n",
    "    if config[\"create_data\"]:\n",
    "        network: BaseNetwork = factory.new_network(\n",
    "            'multiple-round-robin',\n",
    "            random_number_generator = rng,\n",
    "            teams=config[\"number_of_teams\"],\n",
    "            days_between_rounds=7,\n",
    "            seasons=config[\"number_of_seasons\"],\n",
    "            league_teams=config[\"number_of_teams\"],\n",
    "            league_promotion=0,\n",
    "            create=True,\n",
    "            true_forecast=LogFunctionForecast(\n",
    "                outcomes=['home', 'draw', 'away'], \n",
    "                coefficients = config[\"true_forecast\"][\"coefficients\"], \n",
    "                beta_parameter=config[\"true_forecast\"][\"beta\"]\n",
    "            ),\n",
    "            true_rating=ControlledTrendRating(\n",
    "                starting_point=ControlledRandomFunction(random_number_generator = rng, distribution='normal', loc=1000, scale=100),\n",
    "                delta=ControlledRandomFunction(random_number_generator = rng, distribution='normal', loc=0, scale=3),\n",
    "                trend=ControlledRandomFunction(random_number_generator = rng, distribution='normal', loc=0, scale=20/365),\n",
    "                season_delta=ControlledRandomFunction(random_number_generator = rng, distribution='normal', loc=0, scale=10),\n",
    "                random_number_generator = rng,\n",
    "            )\n",
    "        )\n",
    "        #adding biased bookmaker forecast to the network\n",
    "        network.add_forecast(\n",
    "            forecast=LogFunctionForecast(\n",
    "                outcomes=['home', 'draw', 'away'], \n",
    "                coefficients = config[\"bookmaker_forecast\"][\"coefficients\"], \n",
    "                beta_parameter=config[\"bookmaker_forecast\"][\"beta\"], \n",
    "                home_team_error=rating_error_bookmaker, \n",
    "                away_team_error=rating_error_bookmaker\n",
    "            ),\n",
    "            forecast_name='bookmaker_forecast',\n",
    "            base_ranking='true_rating'\n",
    "        )\n",
    "        #adding odds    \n",
    "        network.add_odds(\n",
    "            bookmaker_name=\"bm1\",\n",
    "            bookmaker=bookmaker1,\n",
    "            base_forecast='bookmaker_forecast'\n",
    "        )\n",
    "        network.add_odds(\n",
    "            bookmaker_name=\"bm2\",\n",
    "            bookmaker=bookmaker2,\n",
    "            base_forecast='bookmaker_forecast'\n",
    "        )\n",
    "    else:\n",
    "        print(\"Loading network data\")\n",
    "        main_controller.load_network_from_sql(\n",
    "            network_name=f\"{config['test_name']}_network_{league}\",\n",
    "            new_network_name=f\"{config['test_name']}_network_{league}\"\n",
    "        )\n",
    "        network: BaseNetwork = main_controller.networks[f\"{config['test_name']}_network_{league}\"]\n",
    "    networks.append(network)\n",
    "print(f\"{numberLeagues} leagues added in {float(time.time() - gen_start_time)} seconds.\")"
   ]
  },
  {
   "cell_type": "markdown",
   "id": "7bb7be50",
   "metadata": {},
   "source": [
    "### Some helper functions required in the analysis"
   ]
  },
  {
   "cell_type": "code",
   "execution_count": null,
   "id": "dd4525a0",
   "metadata": {
    "tags": []
   },
   "outputs": [],
   "source": [
    "#aggregation of the relavant measures for evaluation (e.g. likelihood, betting returns, etc.)\n",
    "def aggregate_measures(list_of_matches, prefix='', addBettingMetrics=True):\n",
    "    measures = {\n",
    "        prefix+'_likelihood': sum([m[3]['metrics']['likelihood'] for m in list_of_matches])\n",
    "    }\n",
    "    if addBettingMetrics:\n",
    "        for m in list_of_matches:\n",
    "            betting_returns_keys = [k for k in m[3]['metrics'].keys() if k.startswith('betting_returns')]\n",
    "            betting_activity_keys = [k for k in m[3]['metrics'].keys() if k.startswith('betting_activity')]\n",
    "            for br in betting_returns_keys:\n",
    "                measures[f\"{prefix}_{br}\"] = sum([b[0] for b in m[3]['metrics'][br]]) + measures.get(f\"{prefix}_{br}\", 0.0)\n",
    "                measures[f\"{prefix}_{br}_expected\"] = sum([b[2] for b in m[3]['metrics'][br]]) + measures.get(f\"{prefix}_{br}_expected\", 0.0)\n",
    "            for ba in betting_activity_keys:\n",
    "                measures[f\"{prefix}_{ba}_activity\"] = m[3]['metrics'][ba]['qty'] + measures.get(f\"{prefix}_{ba}_activity\", 0.0)\n",
    "    return measures"
   ]
  },
  {
   "cell_type": "code",
   "execution_count": null,
   "id": "49422a84",
   "metadata": {
    "tags": []
   },
   "outputs": [],
   "source": [
    "#Getting first the values for the true model and the bookmaker model. Remove some of the if they are not needed and if the IS/OOS split is not required.\n",
    "entire_model_values = {}\n",
    "for forecast_pointer in ['true_forecast', 'bookmaker_forecast']:\n",
    "    all_matches =  []\n",
    "    is_matches =  []\n",
    "    oos_matches =  []\n",
    "    for network in tqdm(networks):\n",
    "        likelihood = Likelihood(outcomes=['home', 'draw', 'away'], forecast_name = forecast_pointer)\n",
    "        network.add_evaluation([\n",
    "            (likelihood, 'likelihood')\n",
    "        ])\n",
    "        all_matches += [(a,h, match_id, match_attributes) for a,h, match_id, match_attributes in network.iterate_over_games()]\n",
    "        is_matches += [(a,h, match_id, match_attributes) for a,h, match_id, match_attributes in network.iterate_over_games() if match_attributes['season'] < 6]\n",
    "        oos_matches += [(a,h, match_id, match_attributes) for a,h, match_id, match_attributes in network.iterate_over_games() if match_attributes['season'] > 5]\n",
    "\n",
    "    result_all = aggregate_measures(all_matches, f'all_{forecast_pointer}', False)\n",
    "    result_is = aggregate_measures(is_matches, f'is_{forecast_pointer}', False)\n",
    "    result_oos = aggregate_measures(oos_matches, f'oos_{forecast_pointer}', False)\n",
    "    entire_model_values = {\n",
    "        **entire_model_values,\n",
    "        **result_is, **result_oos, **result_all\n",
    "    }"
   ]
  },
  {
   "cell_type": "markdown",
   "id": "2302bdcc",
   "metadata": {},
   "source": [
    "### Start of the experiment looping over all predefined model parameters"
   ]
  },
  {
   "cell_type": "code",
   "execution_count": null,
   "id": "642bd011",
   "metadata": {},
   "outputs": [],
   "source": [
    "result_list = []\n",
    "experiment_start_time = time.time()\n",
    "\n",
    "#Loop over all OLR model coefficients that were specified for the run\n",
    "for c0 in np.arange(-1.20, -0.60, 0.1):#please change back to -0.6\n",
    "    for c1 in np.arange(0.0, 0.60, 0.1):#please change back to 0.6\n",
    "        for beta in np.arange(0.002, 0.010, 0.002):#please change back to 0.01\n",
    "            print(f'Variables: c0: {c0}, c1: {c1} and beta: {beta}')\n",
    "            forecast_pointer = f\"player_forecast_{c0:.2f}_{c1:.2f}_{beta:.3f}\"\n",
    "            cell_start_time = time.time()\n",
    "            all_matches =  []\n",
    "            is_matches =  []\n",
    "            oos_matches =  []\n",
    "            \n",
    "            bm_start_time = time.time()\n",
    "            for network_number, network in enumerate(networks):\n",
    "                if config[\"create_data\"]:\n",
    "                    network.add_forecast(\n",
    "                        forecast=LogFunctionForecast(outcomes=['home', 'draw', 'away'], coefficients=[c0, c1], beta_parameter=beta, home_team_error=rating_error, away_team_error=rating_error),\n",
    "                        forecast_name=forecast_pointer,\n",
    "                        base_ranking='true_rating'\n",
    "                    )\n",
    "                for betting, bettingName in [(bettingFixed, \"Fixed\"), (bettingKelly, \"Kelly\")]:\n",
    "                #for betting, bettingName in [(bettingKelly, \"Kelly\")]:\n",
    "                    for i in [1, 2]:\n",
    "                    #for i in [1]:\n",
    "                        #Pointer of each bookmaker\n",
    "                        bookmaker = 'bm' + str(i)\n",
    "                        bettor = 'b' + str(i)\n",
    "                        network.add_bets(\n",
    "                            bettor_name=bettor,\n",
    "                            bookmaker=bookmaker,\n",
    "                            betting=betting,\n",
    "                            base_forecast=forecast_pointer\n",
    "                        )\n",
    "                        # Bettors can be added and then we can extract all the results at once\n",
    "                        betting_activity = BettingActivity(outcomes=['home', 'draw', 'away'], player_name = bettor)\n",
    "                        betting_returns = BettingReturnsEvaluator(outcomes=['home', 'draw', 'away'], player_name = bettor, true_model = 'true_forecast', bookmaker_name = bookmaker)\n",
    "                        network.add_evaluation([\n",
    "                            (betting_returns, f'betting_returns_{bettingName}_{bookmaker}'),\n",
    "                            (betting_activity, f'betting_activity_{bettingName}_{bookmaker}')\n",
    "                        ])\n",
    "\n",
    "                likelihood = Likelihood(outcomes=['home', 'draw', 'away'], forecast_name = forecast_pointer)\n",
    "                        \n",
    "                network.add_evaluation(\n",
    "                    [\n",
    "                        (likelihood, 'likelihood')\n",
    "                    ]\n",
    "                )\n",
    "\n",
    "                all_matches += [(a,h, match_id, match_attributes) for a,h, match_id, match_attributes in network.iterate_over_games()]\n",
    "                is_matches += [(a,h, match_id, match_attributes) for a,h, match_id, match_attributes in network.iterate_over_games() if match_attributes['season'] <= config[\"in_sample_maximum\"]]\n",
    "                oos_matches += [(a,h, match_id, match_attributes) for a,h, match_id, match_attributes in network.iterate_over_games() if match_attributes['season'] > config[\"in_sample_maximum\"]]\n",
    "\n",
    "            print(f\"BMs finished in {float(time.time() - bm_start_time)} seconds\")\n",
    "             \n",
    "            am_start_time = time.time()\n",
    "            result_all = aggregate_measures(all_matches, 'all')\n",
    "            result_is = aggregate_measures(is_matches, 'is')\n",
    "            result_oos = aggregate_measures(oos_matches, 'oos')\n",
    "            result = {\n",
    "                'bookmaker': bookmaker, 'c0' : c0, 'c1' : c1, 'beta' : beta, **result_is, **result_oos, **result_all, **entire_model_values\n",
    "            }\n",
    "                    \n",
    "            result_list.append(result)\n",
    "            print(f\"Aggregation finished in {float(time.time() - am_start_time)} seconds\")    \n",
    "                               \n",
    "            print(f\"Finished in {float(time.time() - cell_start_time)} seconds\")\n",
    "\n",
    "print(f\"Experiment finished in {float(time.time() - experiment_start_time)} seconds with {len(result_list)} observations.\")\n",
    "\n",
    "df = pd.DataFrame(result_list)\n",
    "        "
   ]
  },
  {
   "cell_type": "markdown",
   "id": "2914c0fb",
   "metadata": {},
   "source": [
    "### Evaluation of the results of this run / Storing full results of the run and information needed for Table 3 and Table 4"
   ]
  },
  {
   "cell_type": "code",
   "execution_count": null,
   "id": "50f5a80f",
   "metadata": {},
   "outputs": [],
   "source": [
    "#sort full data frame to identify accuracy-optimised model (the accuracy-optimised model does not depend on bookmaker and betting strategy)\n",
    "accOpt = df.sort_values(by=['is_likelihood'], ascending = False).iloc[0]\n",
    "\n",
    "#loop over four different cases (two margins and two betting strategies)\n",
    "for case in ['Fixed_bm1', 'Fixed_bm2', 'Kelly_bm1', 'Kelly_bm2']:\n",
    "    profOpt = df.sort_values(by=['is_betting_returns_' + case], ascending = False).iloc[0]\n",
    "\n",
    "    #obtain data for the best performing models\n",
    "    modelAcc = \"c0:\" + str(round(accOpt[\"c0\"],2)) + \" c1: \" + str(round(accOpt[\"c1\"],2)) + \" beta: \" + str(round(accOpt[\"beta\"],3))\n",
    "    modelProf = \"c0:\" + str(round(profOpt[\"c0\"],2)) + \" c1: \" + str(round(profOpt[\"c1\"],2)) + \" beta: \" + str(round(profOpt[\"beta\"],3))\n",
    "    numberBetsAcc = round(accOpt[\"oos_betting_activity_\" + case + \"_activity\"],0)\n",
    "    numberBetsProf = round(profOpt[\"oos_betting_activity_\" + case + \"_activity\"],0)\n",
    "    observedReturnsAcc = round(accOpt[\"oos_betting_returns_\" + case],2)\n",
    "    observedReturnsProf = round(profOpt[\"oos_betting_returns_\" + case],2)\n",
    "    observedReturnsDiff = observedReturnsProf - observedReturnsAcc\n",
    "    observedReturnsPerBetAcc = round(observedReturnsAcc/numberBetsAcc,4)\n",
    "    observedReturnsPerBetProf = round(observedReturnsProf/numberBetsProf,4)\n",
    "    observedReturnsPerBetDiff = observedReturnsPerBetProf - observedReturnsPerBetAcc\n",
    "    expectedReturnsAcc = round(accOpt[\"oos_betting_returns_\" + case + \"_expected\"],2)\n",
    "    expectedReturnsProf = round(profOpt[\"oos_betting_returns_\"  + case + \"_expected\"],2)\n",
    "    expectedReturnsDiff = expectedReturnsProf - expectedReturnsAcc\n",
    "    expectedReturnsPerBetAcc = round(expectedReturnsAcc/numberBetsAcc,4)\n",
    "    expectedReturnsPerBetProf = round(expectedReturnsProf/numberBetsProf,4)\n",
    "    expectedReturnsPerBetDiff = expectedReturnsPerBetProf - expectedReturnsPerBetAcc\n",
    "\n",
    "\n",
    "    #construct results table\n",
    "    resultTable = pd.DataFrame({'Method': ['Model Selection', 'Number of Bets', 'Observed Returns', 'Observed Returns per bet', 'Expected Returns', 'Expected Returns per bet']})\n",
    "    resultTable[\"Accuracy\"] = [modelAcc, numberBetsAcc, observedReturnsAcc, observedReturnsPerBetAcc, expectedReturnsAcc, expectedReturnsPerBetAcc]\n",
    "    resultTable[\"Profitability\"] = [modelProf, numberBetsProf, observedReturnsProf, observedReturnsPerBetProf, expectedReturnsProf, expectedReturnsPerBetProf]\n",
    "    resultTable[\"Difference\"] = [\"\", \"\", observedReturnsDiff, observedReturnsPerBetDiff, expectedReturnsDiff, expectedReturnsPerBetDiff]\n",
    "    \n",
    "    #save result tables for specific case\n",
    "    resultTable.to_excel(os.path.join(Path(os.getcwd()).parent.absolute(), 'results', f\"artificial_table_\"+config[\"test_name\"]+\"_\"+case+\".xlsx\"))\n",
    "\n",
    "#save raw results\n",
    "#df.to_excel(os.path.join(Path(os.getcwd()).parent.absolute(), 'results', f\"artificial_raw_\"+config[\"test_name\"]+\".xlsx\"))"
   ]
  },
  {
   "cell_type": "code",
   "execution_count": null,
   "id": "028a7d71",
   "metadata": {},
   "outputs": [],
   "source": [
    "resultTable"
   ]
  },
  {
   "cell_type": "raw",
   "id": "365ffab9",
   "metadata": {},
   "source": []
  }
 ],
 "metadata": {
  "kernelspec": {
   "display_name": "Python 3 (ipykernel)",
   "language": "python",
   "name": "python3"
  },
  "language_info": {
   "codemirror_mode": {
    "name": "ipython",
    "version": 3
   },
   "file_extension": ".py",
   "mimetype": "text/x-python",
   "name": "python",
   "nbconvert_exporter": "python",
   "pygments_lexer": "ipython3",
   "version": "3.7.16"
  },
  "vscode": {
   "interpreter": {
    "hash": "757f68f4b9fb7f25c349de3b55a0c635861fbf8f251827204722ead8bc499c2f"
   }
  }
 },
 "nbformat": 4,
 "nbformat_minor": 5
}
