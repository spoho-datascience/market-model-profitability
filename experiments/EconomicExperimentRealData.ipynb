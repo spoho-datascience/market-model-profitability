{
 "cells": [
  {
   "cell_type": "markdown",
   "metadata": {},
   "source": [
    "### Economic experiment testing accuracy- vs. profitability-optimised models on real-world data"
   ]
  },
  {
   "cell_type": "markdown",
   "metadata": {},
   "source": [
    "### Import"
   ]
  },
  {
   "cell_type": "code",
   "execution_count": 1,
   "metadata": {},
   "outputs": [],
   "source": [
    "import os\n",
    "import itertools\n",
    "import time\n",
    "import pandas as pd\n",
    "import numpy as np\n",
    "import random\n",
    "import copy\n",
    "\n",
    "from dfg_rating.model import factory\n",
    "import dfg_rating.viz.jupyter_widgets as DFGViz\n",
    "\n",
    "from dfg_rating.model.rating.elo_rating import ELORating\n",
    "from dfg_rating.model.network.base_network import WhiteNetwork\n",
    "from dfg_rating.model.forecast.true_forecast import LogFunctionForecast\n",
    "from dfg_rating.model.rating.controlled_trend_rating import ControlledTrendRating, ControlledRandomFunction\n",
    "from dfg_rating.model.betting.betting import FixedBetting, KellyBetting, ThresholdBetting\n",
    "from dfg_rating.model.bookmaker.base_bookmaker import BaseBookmaker\n",
    "from dfg_rating.model.evaluators.accuracy import RankProbabilityScore, Likelihood, ProbabilityDifference, ProbabilityPointer, FavouriteProbability\n",
    "from dfg_rating.model.evaluators.profitability import BettingReturnsEvaluator\n",
    "from dfg_rating.model.evaluators.base_evaluators import BettingActivity\n",
    "\n",
    "from pathlib import Path\n",
    "\n",
    "pd.set_option('display.max_columns', None)\n",
    "pd.set_option('display.max_rows', None)\n",
    "pd.options.display.width = None\n",
    "pd.set_option('display.float_format', lambda x: '%.5f' % x)\n",
    "\n"
   ]
  },
  {
   "cell_type": "markdown",
   "metadata": {},
   "source": [
    "### Specification of the experimental run (betting strategy and odds type)"
   ]
  },
  {
   "cell_type": "code",
   "execution_count": 2,
   "metadata": {},
   "outputs": [],
   "source": [
    "#to be changed dependent on what strategy (Fixed, Kelly, Threshold) should be used in the run\n",
    "betting = FixedBetting(100)\n",
    "betting_description = 'fixed'\n",
    "#betting = KellyBetting(100)\n",
    "#betting_description = 'kelly'\n",
    "#betting = ThresholdBetting(100, threshold = 0.3)\n",
    "#betting_description = 'threshold_03'\n",
    "\n",
    "#to be changed dependent on which odds type (average or maximum odds) should be used in the run\n",
    "odds_type = 'averageodds'\n",
    "#odds_type = 'maximumodds'\n",
    "\n",
    "#defines the parameters to be tested in one run\n",
    "k_options = range(20,25,5)\n",
    "c0_options = np.arange(-1.2, -0.7, 0.1)\n",
    "c1_options = np.arange(0.0, 0.5, 0.1)\n",
    "beta_options = np.arange(0.004, 0.014, 0.002)"
   ]
  },
  {
   "cell_type": "markdown",
   "metadata": {},
   "source": [
    "### Loading of real data into the framework"
   ]
  },
  {
   "cell_type": "code",
   "execution_count": 3,
   "metadata": {},
   "outputs": [],
   "source": [
    "#load real-world football data\n",
    "data_real_world = pd.read_csv(os.path.join(Path(os.getcwd()).parent.absolute(), 'data', 'data_real_anonymised.csv'),sep = \";\")\n"
   ]
  },
  {
   "cell_type": "code",
   "execution_count": 4,
   "metadata": {
    "tags": []
   },
   "outputs": [
    {
     "name": "stdout",
     "output_type": "stream",
     "text": [
      "Network loaded correctly\n"
     ]
    }
   ],
   "source": [
    "football_network = WhiteNetwork(\n",
    "    data=data_real_world,\n",
    "    mapping={\n",
    "        \"node1\": {\n",
    "            \"id\": \"AwayID\",\n",
    "            \"name\": \"AwayTeam\",\n",
    "        },\n",
    "        \"node2\": {\n",
    "            \"id\": \"HomeID\",\n",
    "            \"name\": \"HomeTeam\",\n",
    "        },\n",
    "        \"day\": \"Date\",\n",
    "        \"dayIsTimestamp\": True,\n",
    "        \"ts_format\": \"%d.%m.%Y\",\n",
    "        \"tournament\": \"Div\",\n",
    "        \"season\": \"Season\",\n",
    "        \"winner\": {\n",
    "            \"result\": \"ResultFT\",\n",
    "            \"translation\": {\n",
    "                \"H\": \"home\",\n",
    "                \"D\": \"draw\",\n",
    "                \"A\": \"away\"\n",
    "            }\n",
    "        },\n",
    "        \"round\": \"day\",\n",
    "        \"odds\": {\n",
    "            \"maximumodds\": {\n",
    "                \"home\": \"OddsHomeMax\",\n",
    "                \"draw\": \"OddsDrawMax\",\n",
    "                \"away\": \"OddsAwayMax\"\n",
    "            },\n",
    "            \"averageodds\": {\n",
    "                \"home\": \"OddsHomeAvg\",\n",
    "                \"draw\": \"OddsDrawAvg\",\n",
    "                \"away\": \"OddsAwayAvg\"\n",
    "            },\n",
    "        },\n",
    "        \"bets\": {}\n",
    "    }\n",
    ")"
   ]
  },
  {
   "cell_type": "markdown",
   "metadata": {},
   "source": [
    "### Some helper functions required in the analysis"
   ]
  },
  {
   "cell_type": "code",
   "execution_count": 5,
   "metadata": {},
   "outputs": [],
   "source": [
    "#adding the Elo rating with a predefined K-factor\n",
    "def add_elo_rating(k, n, name):\n",
    "    n.add_rating(\n",
    "    rating=ELORating(\n",
    "        trained=True, \n",
    "        rating_name=name,\n",
    "        **{\n",
    "            'param_c' : 10,\n",
    "            'param_d' : 400,\n",
    "            'param_k' : k,\n",
    "            'param_w' : 80\n",
    "        }\n",
    "    ),\n",
    "    rating_name=name\n",
    ")"
   ]
  },
  {
   "cell_type": "code",
   "execution_count": 6,
   "metadata": {},
   "outputs": [],
   "source": [
    "#aggregation of the relavant measures for evaluation (e.g. likelihood, betting returns, etc.)\n",
    "def aggregate_measures(list_of_matches, prefix=''):\n",
    "    \n",
    "    betting_returns = sum([sum([b[0] for b in m[3]['metrics']['betting_returns']]) for m in list_of_matches])\n",
    "    betting_activity = sum([m[3]['metrics']['betting_activity']['qty'] for m in list_of_matches])\n",
    "\n",
    "    return {\n",
    "        prefix+'_rps': np.mean([m[3]['metrics']['rps'] for m in list_of_matches]),\n",
    "        prefix+'_likelihood': sum([m[3]['metrics']['likelihood'] for m in list_of_matches]),\n",
    "        prefix+'_prob_diff': np.mean([m[3]['metrics']['prob_diff'] for m in list_of_matches]),\n",
    "        prefix+'_draw_prob': np.mean([m[3]['metrics']['draw_prob'] for m in list_of_matches]),\n",
    "        prefix+'_fav_prob': np.mean([m[3]['metrics']['fav_prob'] for m in list_of_matches]),\n",
    "        prefix+'_betting_returns': betting_returns,\n",
    "        prefix+'_betting_returns_expected': sum([sum(b[1] for b in m[3]['metrics']['betting_returns']) for m in list_of_matches]),\n",
    "        prefix+'_betting_activity': betting_activity,\n",
    "        prefix+'_betting_returns_per_bet': betting_returns/betting_activity\n",
    "    }"
   ]
  },
  {
   "cell_type": "markdown",
   "metadata": {},
   "source": [
    "### Start of the experiment looping over all predefined model parameters"
   ]
  },
  {
   "cell_type": "code",
   "execution_count": 7,
   "metadata": {},
   "outputs": [
    {
     "name": "stdout",
     "output_type": "stream",
     "text": [
      "Rating <elo_rating_20>\n",
      "Variables: c0: -1.2, c1: 0.0 and beta: 0.004\n"
     ]
    },
    {
     "ename": "KeyboardInterrupt",
     "evalue": "",
     "output_type": "error",
     "traceback": [
      "\u001b[1;31m---------------------------------------------------------------------------\u001b[0m",
      "\u001b[1;31mKeyboardInterrupt\u001b[0m                         Traceback (most recent call last)",
      "\u001b[1;32m<ipython-input-7-5f46f60043b4>\u001b[0m in \u001b[0;36m<module>\u001b[1;34m\u001b[0m\n\u001b[0;32m     71\u001b[0m         \u001b[1;32mif\u001b[0m\u001b[1;33m(\u001b[0m\u001b[0mresult_is\u001b[0m\u001b[1;33m[\u001b[0m\u001b[1;34m'is_likelihood'\u001b[0m\u001b[1;33m]\u001b[0m \u001b[1;33m>\u001b[0m \u001b[0mbestLikelihood\u001b[0m\u001b[1;33m)\u001b[0m\u001b[1;33m:\u001b[0m\u001b[1;33m\u001b[0m\u001b[1;33m\u001b[0m\u001b[0m\n\u001b[0;32m     72\u001b[0m             \u001b[0mbestLikelihood\u001b[0m \u001b[1;33m=\u001b[0m \u001b[0mresult_is\u001b[0m\u001b[1;33m[\u001b[0m\u001b[1;34m'is_likelihood'\u001b[0m\u001b[1;33m]\u001b[0m\u001b[1;33m\u001b[0m\u001b[1;33m\u001b[0m\u001b[0m\n\u001b[1;32m---> 73\u001b[1;33m             \u001b[0mmatches_oos_Likelihood\u001b[0m \u001b[1;33m=\u001b[0m \u001b[0mcopy\u001b[0m\u001b[1;33m.\u001b[0m\u001b[0mdeepcopy\u001b[0m\u001b[1;33m(\u001b[0m\u001b[0mmatches_oos\u001b[0m\u001b[1;33m)\u001b[0m\u001b[1;33m\u001b[0m\u001b[1;33m\u001b[0m\u001b[0m\n\u001b[0m\u001b[0;32m     74\u001b[0m         \u001b[1;32mif\u001b[0m\u001b[1;33m(\u001b[0m\u001b[0mresult_is\u001b[0m\u001b[1;33m[\u001b[0m\u001b[1;34m'is_betting_returns'\u001b[0m\u001b[1;33m]\u001b[0m \u001b[1;33m>\u001b[0m \u001b[0mbestBettingReturns\u001b[0m\u001b[1;33m)\u001b[0m\u001b[1;33m:\u001b[0m\u001b[1;33m\u001b[0m\u001b[1;33m\u001b[0m\u001b[0m\n\u001b[0;32m     75\u001b[0m             \u001b[0mbestBettingReturns\u001b[0m \u001b[1;33m=\u001b[0m \u001b[0mresult_is\u001b[0m\u001b[1;33m[\u001b[0m\u001b[1;34m'is_betting_returns'\u001b[0m\u001b[1;33m]\u001b[0m\u001b[1;33m\u001b[0m\u001b[1;33m\u001b[0m\u001b[0m\n",
      "\u001b[1;32m~\\Anaconda3\\envs\\dfg-rating\\lib\\copy.py\u001b[0m in \u001b[0;36mdeepcopy\u001b[1;34m(x, memo, _nil)\u001b[0m\n\u001b[0;32m    148\u001b[0m     \u001b[0mcopier\u001b[0m \u001b[1;33m=\u001b[0m \u001b[0m_deepcopy_dispatch\u001b[0m\u001b[1;33m.\u001b[0m\u001b[0mget\u001b[0m\u001b[1;33m(\u001b[0m\u001b[0mcls\u001b[0m\u001b[1;33m)\u001b[0m\u001b[1;33m\u001b[0m\u001b[1;33m\u001b[0m\u001b[0m\n\u001b[0;32m    149\u001b[0m     \u001b[1;32mif\u001b[0m \u001b[0mcopier\u001b[0m\u001b[1;33m:\u001b[0m\u001b[1;33m\u001b[0m\u001b[1;33m\u001b[0m\u001b[0m\n\u001b[1;32m--> 150\u001b[1;33m         \u001b[0my\u001b[0m \u001b[1;33m=\u001b[0m \u001b[0mcopier\u001b[0m\u001b[1;33m(\u001b[0m\u001b[0mx\u001b[0m\u001b[1;33m,\u001b[0m \u001b[0mmemo\u001b[0m\u001b[1;33m)\u001b[0m\u001b[1;33m\u001b[0m\u001b[1;33m\u001b[0m\u001b[0m\n\u001b[0m\u001b[0;32m    151\u001b[0m     \u001b[1;32melse\u001b[0m\u001b[1;33m:\u001b[0m\u001b[1;33m\u001b[0m\u001b[1;33m\u001b[0m\u001b[0m\n\u001b[0;32m    152\u001b[0m         \u001b[1;32mtry\u001b[0m\u001b[1;33m:\u001b[0m\u001b[1;33m\u001b[0m\u001b[1;33m\u001b[0m\u001b[0m\n",
      "\u001b[1;32m~\\Anaconda3\\envs\\dfg-rating\\lib\\copy.py\u001b[0m in \u001b[0;36m_deepcopy_list\u001b[1;34m(x, memo, deepcopy)\u001b[0m\n\u001b[0;32m    214\u001b[0m     \u001b[0mappend\u001b[0m \u001b[1;33m=\u001b[0m \u001b[0my\u001b[0m\u001b[1;33m.\u001b[0m\u001b[0mappend\u001b[0m\u001b[1;33m\u001b[0m\u001b[1;33m\u001b[0m\u001b[0m\n\u001b[0;32m    215\u001b[0m     \u001b[1;32mfor\u001b[0m \u001b[0ma\u001b[0m \u001b[1;32min\u001b[0m \u001b[0mx\u001b[0m\u001b[1;33m:\u001b[0m\u001b[1;33m\u001b[0m\u001b[1;33m\u001b[0m\u001b[0m\n\u001b[1;32m--> 216\u001b[1;33m         \u001b[0mappend\u001b[0m\u001b[1;33m(\u001b[0m\u001b[0mdeepcopy\u001b[0m\u001b[1;33m(\u001b[0m\u001b[0ma\u001b[0m\u001b[1;33m,\u001b[0m \u001b[0mmemo\u001b[0m\u001b[1;33m)\u001b[0m\u001b[1;33m)\u001b[0m\u001b[1;33m\u001b[0m\u001b[1;33m\u001b[0m\u001b[0m\n\u001b[0m\u001b[0;32m    217\u001b[0m     \u001b[1;32mreturn\u001b[0m \u001b[0my\u001b[0m\u001b[1;33m\u001b[0m\u001b[1;33m\u001b[0m\u001b[0m\n\u001b[0;32m    218\u001b[0m \u001b[0md\u001b[0m\u001b[1;33m[\u001b[0m\u001b[0mlist\u001b[0m\u001b[1;33m]\u001b[0m \u001b[1;33m=\u001b[0m \u001b[0m_deepcopy_list\u001b[0m\u001b[1;33m\u001b[0m\u001b[1;33m\u001b[0m\u001b[0m\n",
      "\u001b[1;32m~\\Anaconda3\\envs\\dfg-rating\\lib\\copy.py\u001b[0m in \u001b[0;36mdeepcopy\u001b[1;34m(x, memo, _nil)\u001b[0m\n\u001b[0;32m    148\u001b[0m     \u001b[0mcopier\u001b[0m \u001b[1;33m=\u001b[0m \u001b[0m_deepcopy_dispatch\u001b[0m\u001b[1;33m.\u001b[0m\u001b[0mget\u001b[0m\u001b[1;33m(\u001b[0m\u001b[0mcls\u001b[0m\u001b[1;33m)\u001b[0m\u001b[1;33m\u001b[0m\u001b[1;33m\u001b[0m\u001b[0m\n\u001b[0;32m    149\u001b[0m     \u001b[1;32mif\u001b[0m \u001b[0mcopier\u001b[0m\u001b[1;33m:\u001b[0m\u001b[1;33m\u001b[0m\u001b[1;33m\u001b[0m\u001b[0m\n\u001b[1;32m--> 150\u001b[1;33m         \u001b[0my\u001b[0m \u001b[1;33m=\u001b[0m \u001b[0mcopier\u001b[0m\u001b[1;33m(\u001b[0m\u001b[0mx\u001b[0m\u001b[1;33m,\u001b[0m \u001b[0mmemo\u001b[0m\u001b[1;33m)\u001b[0m\u001b[1;33m\u001b[0m\u001b[1;33m\u001b[0m\u001b[0m\n\u001b[0m\u001b[0;32m    151\u001b[0m     \u001b[1;32melse\u001b[0m\u001b[1;33m:\u001b[0m\u001b[1;33m\u001b[0m\u001b[1;33m\u001b[0m\u001b[0m\n\u001b[0;32m    152\u001b[0m         \u001b[1;32mtry\u001b[0m\u001b[1;33m:\u001b[0m\u001b[1;33m\u001b[0m\u001b[1;33m\u001b[0m\u001b[0m\n",
      "\u001b[1;32m~\\Anaconda3\\envs\\dfg-rating\\lib\\copy.py\u001b[0m in \u001b[0;36m_deepcopy_tuple\u001b[1;34m(x, memo, deepcopy)\u001b[0m\n\u001b[0;32m    219\u001b[0m \u001b[1;33m\u001b[0m\u001b[0m\n\u001b[0;32m    220\u001b[0m \u001b[1;32mdef\u001b[0m \u001b[0m_deepcopy_tuple\u001b[0m\u001b[1;33m(\u001b[0m\u001b[0mx\u001b[0m\u001b[1;33m,\u001b[0m \u001b[0mmemo\u001b[0m\u001b[1;33m,\u001b[0m \u001b[0mdeepcopy\u001b[0m\u001b[1;33m=\u001b[0m\u001b[0mdeepcopy\u001b[0m\u001b[1;33m)\u001b[0m\u001b[1;33m:\u001b[0m\u001b[1;33m\u001b[0m\u001b[1;33m\u001b[0m\u001b[0m\n\u001b[1;32m--> 221\u001b[1;33m     \u001b[0my\u001b[0m \u001b[1;33m=\u001b[0m \u001b[1;33m[\u001b[0m\u001b[0mdeepcopy\u001b[0m\u001b[1;33m(\u001b[0m\u001b[0ma\u001b[0m\u001b[1;33m,\u001b[0m \u001b[0mmemo\u001b[0m\u001b[1;33m)\u001b[0m \u001b[1;32mfor\u001b[0m \u001b[0ma\u001b[0m \u001b[1;32min\u001b[0m \u001b[0mx\u001b[0m\u001b[1;33m]\u001b[0m\u001b[1;33m\u001b[0m\u001b[1;33m\u001b[0m\u001b[0m\n\u001b[0m\u001b[0;32m    222\u001b[0m     \u001b[1;31m# We're not going to put the tuple in the memo, but it's still important we\u001b[0m\u001b[1;33m\u001b[0m\u001b[1;33m\u001b[0m\u001b[1;33m\u001b[0m\u001b[0m\n\u001b[0;32m    223\u001b[0m     \u001b[1;31m# check for it, in case the tuple contains recursive mutable structures.\u001b[0m\u001b[1;33m\u001b[0m\u001b[1;33m\u001b[0m\u001b[1;33m\u001b[0m\u001b[0m\n",
      "\u001b[1;32m~\\Anaconda3\\envs\\dfg-rating\\lib\\copy.py\u001b[0m in \u001b[0;36m<listcomp>\u001b[1;34m(.0)\u001b[0m\n\u001b[0;32m    219\u001b[0m \u001b[1;33m\u001b[0m\u001b[0m\n\u001b[0;32m    220\u001b[0m \u001b[1;32mdef\u001b[0m \u001b[0m_deepcopy_tuple\u001b[0m\u001b[1;33m(\u001b[0m\u001b[0mx\u001b[0m\u001b[1;33m,\u001b[0m \u001b[0mmemo\u001b[0m\u001b[1;33m,\u001b[0m \u001b[0mdeepcopy\u001b[0m\u001b[1;33m=\u001b[0m\u001b[0mdeepcopy\u001b[0m\u001b[1;33m)\u001b[0m\u001b[1;33m:\u001b[0m\u001b[1;33m\u001b[0m\u001b[1;33m\u001b[0m\u001b[0m\n\u001b[1;32m--> 221\u001b[1;33m     \u001b[0my\u001b[0m \u001b[1;33m=\u001b[0m \u001b[1;33m[\u001b[0m\u001b[0mdeepcopy\u001b[0m\u001b[1;33m(\u001b[0m\u001b[0ma\u001b[0m\u001b[1;33m,\u001b[0m \u001b[0mmemo\u001b[0m\u001b[1;33m)\u001b[0m \u001b[1;32mfor\u001b[0m \u001b[0ma\u001b[0m \u001b[1;32min\u001b[0m \u001b[0mx\u001b[0m\u001b[1;33m]\u001b[0m\u001b[1;33m\u001b[0m\u001b[1;33m\u001b[0m\u001b[0m\n\u001b[0m\u001b[0;32m    222\u001b[0m     \u001b[1;31m# We're not going to put the tuple in the memo, but it's still important we\u001b[0m\u001b[1;33m\u001b[0m\u001b[1;33m\u001b[0m\u001b[1;33m\u001b[0m\u001b[0m\n\u001b[0;32m    223\u001b[0m     \u001b[1;31m# check for it, in case the tuple contains recursive mutable structures.\u001b[0m\u001b[1;33m\u001b[0m\u001b[1;33m\u001b[0m\u001b[1;33m\u001b[0m\u001b[0m\n",
      "\u001b[1;32m~\\Anaconda3\\envs\\dfg-rating\\lib\\copy.py\u001b[0m in \u001b[0;36mdeepcopy\u001b[1;34m(x, memo, _nil)\u001b[0m\n\u001b[0;32m    148\u001b[0m     \u001b[0mcopier\u001b[0m \u001b[1;33m=\u001b[0m \u001b[0m_deepcopy_dispatch\u001b[0m\u001b[1;33m.\u001b[0m\u001b[0mget\u001b[0m\u001b[1;33m(\u001b[0m\u001b[0mcls\u001b[0m\u001b[1;33m)\u001b[0m\u001b[1;33m\u001b[0m\u001b[1;33m\u001b[0m\u001b[0m\n\u001b[0;32m    149\u001b[0m     \u001b[1;32mif\u001b[0m \u001b[0mcopier\u001b[0m\u001b[1;33m:\u001b[0m\u001b[1;33m\u001b[0m\u001b[1;33m\u001b[0m\u001b[0m\n\u001b[1;32m--> 150\u001b[1;33m         \u001b[0my\u001b[0m \u001b[1;33m=\u001b[0m \u001b[0mcopier\u001b[0m\u001b[1;33m(\u001b[0m\u001b[0mx\u001b[0m\u001b[1;33m,\u001b[0m \u001b[0mmemo\u001b[0m\u001b[1;33m)\u001b[0m\u001b[1;33m\u001b[0m\u001b[1;33m\u001b[0m\u001b[0m\n\u001b[0m\u001b[0;32m    151\u001b[0m     \u001b[1;32melse\u001b[0m\u001b[1;33m:\u001b[0m\u001b[1;33m\u001b[0m\u001b[1;33m\u001b[0m\u001b[0m\n\u001b[0;32m    152\u001b[0m         \u001b[1;32mtry\u001b[0m\u001b[1;33m:\u001b[0m\u001b[1;33m\u001b[0m\u001b[1;33m\u001b[0m\u001b[0m\n",
      "\u001b[1;32m~\\Anaconda3\\envs\\dfg-rating\\lib\\copy.py\u001b[0m in \u001b[0;36m_deepcopy_dict\u001b[1;34m(x, memo, deepcopy)\u001b[0m\n\u001b[0;32m    239\u001b[0m     \u001b[0mmemo\u001b[0m\u001b[1;33m[\u001b[0m\u001b[0mid\u001b[0m\u001b[1;33m(\u001b[0m\u001b[0mx\u001b[0m\u001b[1;33m)\u001b[0m\u001b[1;33m]\u001b[0m \u001b[1;33m=\u001b[0m \u001b[0my\u001b[0m\u001b[1;33m\u001b[0m\u001b[1;33m\u001b[0m\u001b[0m\n\u001b[0;32m    240\u001b[0m     \u001b[1;32mfor\u001b[0m \u001b[0mkey\u001b[0m\u001b[1;33m,\u001b[0m \u001b[0mvalue\u001b[0m \u001b[1;32min\u001b[0m \u001b[0mx\u001b[0m\u001b[1;33m.\u001b[0m\u001b[0mitems\u001b[0m\u001b[1;33m(\u001b[0m\u001b[1;33m)\u001b[0m\u001b[1;33m:\u001b[0m\u001b[1;33m\u001b[0m\u001b[1;33m\u001b[0m\u001b[0m\n\u001b[1;32m--> 241\u001b[1;33m         \u001b[0my\u001b[0m\u001b[1;33m[\u001b[0m\u001b[0mdeepcopy\u001b[0m\u001b[1;33m(\u001b[0m\u001b[0mkey\u001b[0m\u001b[1;33m,\u001b[0m \u001b[0mmemo\u001b[0m\u001b[1;33m)\u001b[0m\u001b[1;33m]\u001b[0m \u001b[1;33m=\u001b[0m \u001b[0mdeepcopy\u001b[0m\u001b[1;33m(\u001b[0m\u001b[0mvalue\u001b[0m\u001b[1;33m,\u001b[0m \u001b[0mmemo\u001b[0m\u001b[1;33m)\u001b[0m\u001b[1;33m\u001b[0m\u001b[1;33m\u001b[0m\u001b[0m\n\u001b[0m\u001b[0;32m    242\u001b[0m     \u001b[1;32mreturn\u001b[0m \u001b[0my\u001b[0m\u001b[1;33m\u001b[0m\u001b[1;33m\u001b[0m\u001b[0m\n\u001b[0;32m    243\u001b[0m \u001b[0md\u001b[0m\u001b[1;33m[\u001b[0m\u001b[0mdict\u001b[0m\u001b[1;33m]\u001b[0m \u001b[1;33m=\u001b[0m \u001b[0m_deepcopy_dict\u001b[0m\u001b[1;33m\u001b[0m\u001b[1;33m\u001b[0m\u001b[0m\n",
      "\u001b[1;32m~\\Anaconda3\\envs\\dfg-rating\\lib\\copy.py\u001b[0m in \u001b[0;36mdeepcopy\u001b[1;34m(x, memo, _nil)\u001b[0m\n\u001b[0;32m    147\u001b[0m \u001b[1;33m\u001b[0m\u001b[0m\n\u001b[0;32m    148\u001b[0m     \u001b[0mcopier\u001b[0m \u001b[1;33m=\u001b[0m \u001b[0m_deepcopy_dispatch\u001b[0m\u001b[1;33m.\u001b[0m\u001b[0mget\u001b[0m\u001b[1;33m(\u001b[0m\u001b[0mcls\u001b[0m\u001b[1;33m)\u001b[0m\u001b[1;33m\u001b[0m\u001b[1;33m\u001b[0m\u001b[0m\n\u001b[1;32m--> 149\u001b[1;33m     \u001b[1;32mif\u001b[0m \u001b[0mcopier\u001b[0m\u001b[1;33m:\u001b[0m\u001b[1;33m\u001b[0m\u001b[1;33m\u001b[0m\u001b[0m\n\u001b[0m\u001b[0;32m    150\u001b[0m         \u001b[0my\u001b[0m \u001b[1;33m=\u001b[0m \u001b[0mcopier\u001b[0m\u001b[1;33m(\u001b[0m\u001b[0mx\u001b[0m\u001b[1;33m,\u001b[0m \u001b[0mmemo\u001b[0m\u001b[1;33m)\u001b[0m\u001b[1;33m\u001b[0m\u001b[1;33m\u001b[0m\u001b[0m\n\u001b[0;32m    151\u001b[0m     \u001b[1;32melse\u001b[0m\u001b[1;33m:\u001b[0m\u001b[1;33m\u001b[0m\u001b[1;33m\u001b[0m\u001b[0m\n",
      "\u001b[1;31mKeyboardInterrupt\u001b[0m: "
     ]
    }
   ],
   "source": [
    "experiment_start_time = time.time()\n",
    "result_list = []\n",
    "#to store matches for the best model specifications (needed later for bootstrapping)\n",
    "bestLikelihood = float('-inf')\n",
    "matches_oos_Likelihood = []\n",
    "bestBettingReturns = float('-inf')\n",
    "matches_oos_BettingReturns = []\n",
    "\n",
    "#loop over all k options if more than one k is specified\n",
    "for k in k_options:\n",
    "    rating_name = f\"elo_rating_{k}\"\n",
    "    print(f\"Rating <{rating_name}>\")\n",
    "    add_elo_rating(k, football_network, rating_name)\n",
    "    \n",
    "    #Loop over all OLR model coefficients that were specified for the run\n",
    "    for c0, c1, beta in itertools.product(c0_options, c1_options, beta_options):\n",
    "        print(f'Variables: c0: {c0}, c1: {c1} and beta: {beta}')\n",
    "        forecast_pointer = f\"player_{k}_forecast_{c0:.2f}_{c1:.2f}_{beta:.3f}\"\n",
    "        cell_start_time = time.time()\n",
    "        football_network.add_forecast(\n",
    "            forecast=LogFunctionForecast(\n",
    "                outcomes=['home', 'draw', 'away'], \n",
    "                coefficients=[c0, c1], \n",
    "                beta_parameter=beta\n",
    "            ),\n",
    "            forecast_name=forecast_pointer,\n",
    "            base_ranking=rating_name\n",
    "        )\n",
    "        football_network.add_bets(\n",
    "            bettor_name='b',\n",
    "            bookmaker=odds_type,\n",
    "            betting=betting,\n",
    "            base_forecast=forecast_pointer\n",
    "        )\n",
    "        rps = RankProbabilityScore(outcomes=['home', 'draw', 'away'], forecast_name=forecast_pointer)\n",
    "        betting_returns = BettingReturnsEvaluator(\n",
    "            outcomes=['home', 'draw', 'away'], \n",
    "            player_name='b', \n",
    "            true_model=forecast_pointer,\n",
    "            bookmaker_name=odds_type\n",
    "        )\n",
    "        \n",
    "        betting_activity = BettingActivity(outcomes=['home', 'draw', 'away'], player_name='b')\n",
    "        likelihood = Likelihood(outcomes=['home', 'draw', 'away'], forecast_name=forecast_pointer)\n",
    "        difference = ProbabilityDifference(outcomes=['home', 'draw', 'away'], forecast_name=forecast_pointer)\n",
    "        draw_probability = ProbabilityPointer(outcomes=['home', 'draw', 'away'], forecast_name=forecast_pointer, probability_index=1)\n",
    "        fav_probability = FavouriteProbability(outcomes=['home', 'draw', 'away'], forecast_name=forecast_pointer)\n",
    "\n",
    "        football_network.add_evaluation([\n",
    "            (rps, 'rps'),\n",
    "            (betting_returns, 'betting_returns'),\n",
    "            (betting_activity, 'betting_activity'),\n",
    "            (likelihood, 'likelihood'),\n",
    "            (difference, 'prob_diff'),\n",
    "            (draw_probability, 'draw_prob'),\n",
    "            (fav_probability, 'fav_prob')\n",
    "        ])\n",
    "        all_matches = [(a,h, match_id, match_attributes) for a,h, match_id, match_attributes in football_network.iterate_over_games()]\n",
    "              \n",
    "        matches_oos = [m for m in all_matches if (m[3]['season'] > 1 and m[3]['season'] < 11)]\n",
    "        matches_is = [m for m in all_matches if (m[3]['season'] > 10)]\n",
    "        result_all = aggregate_measures(all_matches, 'all')\n",
    "        result_is = aggregate_measures(matches_is, 'is')\n",
    "        result_oos = aggregate_measures(matches_oos, 'oos')\n",
    "        result = {\n",
    "            'k': k, 'c0' : c0, 'c1' : c1, 'beta' : beta, **result_is, **result_oos, **result_all\n",
    "        }\n",
    "        result_list.append(result)\n",
    "        \n",
    "        #update best results if necessary\n",
    "        if(result_is['is_likelihood'] > bestLikelihood):\n",
    "            bestLikelihood = result_is['is_likelihood']\n",
    "            matches_oos_Likelihood = copy.deepcopy(matches_oos)\n",
    "        if(result_is['is_betting_returns'] > bestBettingReturns):\n",
    "            bestBettingReturns = result_is['is_betting_returns']\n",
    "            matches_oos_BettingReturns = copy.deepcopy(matches_oos)\n",
    "        print(f\"Finished in {float(time.time() - cell_start_time)} seconds\")\n",
    "        \n",
    "print(f\"Experiment finished in {float(time.time() - experiment_start_time)} seconds with {len(result_list)} observations.\")\n",
    "df = pd.DataFrame(result_list)\n"
   ]
  },
  {
   "cell_type": "markdown",
   "metadata": {},
   "source": [
    "### Evaluation of the results of this run"
   ]
  },
  {
   "cell_type": "code",
   "execution_count": 8,
   "metadata": {},
   "outputs": [],
   "source": [
    "#sort full data frame to identify accuracy-optimised and profitability-optimised model\n",
    "accOpt = df.sort_values(by=['is_likelihood'], ascending = False).iloc[0]\n",
    "profOpt = df.sort_values(by=['is_betting_returns'], ascending = False).iloc[0]\n",
    "\n",
    "#obtain data for the best performing models\n",
    "modelAcc = \"c0:\" + str(round(accOpt[\"c0\"],2)) + \" c1: \" + str(round(accOpt[\"c1\"],2)) + \" beta: \" + str(round(accOpt[\"beta\"],3))\n",
    "modelProf = \"c0:\" + str(round(profOpt[\"c0\"],2)) + \" c1: \" + str(round(profOpt[\"c1\"],2)) + \" beta: \" + str(round(profOpt[\"beta\"],3))\n",
    "numberBetsAcc = round(accOpt[\"oos_betting_activity\"],0)\n",
    "numberBetsProf = round(profOpt[\"oos_betting_activity\"],0)\n",
    "observedReturnsAcc = round(accOpt[\"oos_betting_returns\"],2)\n",
    "observedReturnsProf = round(profOpt[\"oos_betting_returns\"],2)\n",
    "observedReturnsDiff = observedReturnsProf - observedReturnsAcc\n",
    "observedReturnsPerBetAcc = round(observedReturnsAcc/numberBetsAcc,4)\n",
    "observedReturnsPerBetProf = round(observedReturnsProf/numberBetsProf,4)\n",
    "observedReturnsPerBetDiff = observedReturnsPerBetProf - observedReturnsPerBetAcc\n",
    "\n",
    "\n",
    "#calculate confidence interval based on the matches stored in the previous step\n",
    "\n",
    "#extract betting returns per match as a basis for bootstrapping from the data\n",
    "returns_Likelihood = []\n",
    "returns_BettingReturns = []\n",
    "for m in matches_oos_Likelihood:\n",
    "    all_betting_returns = m[3]['metrics']['betting_returns']\n",
    "    actual = [b[0] for b in all_betting_returns]\n",
    "    returns_Likelihood += actual\n",
    "for m in matches_oos_BettingReturns:\n",
    "    all_betting_returns = m[3]['metrics']['betting_returns']\n",
    "    actual = [b[0] for b in all_betting_returns]\n",
    "    returns_BettingReturns += actual\n",
    "\n",
    "#set seed to allow perfect replicability of bootstrapping\n",
    "random.seed(10)\n",
    "    \n",
    "#perform bootstrapping\n",
    "distribution = []\n",
    "for i in range(10000):#please change back to 10000\n",
    "    distribution.append(np.sum(random.choices(returns_BettingReturns, k=len(returns_BettingReturns))) - np.sum(random.choices(returns_Likelihood, k=len(returns_Likelihood))))\n",
    "\n",
    "CI_Lower = str(round(np.quantile(distribution, 0.025),2))\n",
    "CI_Upper = str(round(np.quantile(distribution, 0.975),2))\n",
    "pBootstrap = str(100*len([i for i in distribution if i <= 0])/len(distribution))\n",
    "\n",
    "confidenceInterval = \"(\" + CI_Lower + \",\" + CI_Upper+ \")\" + \" p = \"+pBootstrap+ \"%\"\n",
    "\n",
    "\n",
    "#construct results table\n",
    "resultTable = pd.DataFrame({'Method': ['Model Selection', 'Number of Bets', 'Observed Returns', 'Observed Returns per bet']})\n",
    "resultTable[\"Accuracy\"] = [modelAcc, numberBetsAcc, observedReturnsAcc, observedReturnsPerBetAcc]\n",
    "resultTable[\"Profitability\"] = [modelProf, numberBetsProf, observedReturnsProf, observedReturnsPerBetProf]\n",
    "resultTable[\"Difference\"] = [\"\", \"\", observedReturnsDiff, observedReturnsPerBetDiff]\n",
    "resultTable[\"Confidence Interval\"] = [\"\", \"\", confidenceInterval, \"\"]"
   ]
  },
  {
   "cell_type": "markdown",
   "metadata": {},
   "source": [
    "### Storing full results of the run and information needed for Table 5 and Table 6"
   ]
  },
  {
   "cell_type": "code",
   "execution_count": 9,
   "metadata": {},
   "outputs": [],
   "source": [
    "#df.to_excel(os.path.join(Path(os.getcwd()).parent.absolute(), 'results', f\"real_raw_\"+betting_description+\"_\"+odds_type+\".xlsx\"))\n",
    "resultTable.to_excel(os.path.join(Path(os.getcwd()).parent.absolute(), 'results', f\"real_table_\"+betting_description+\"_\"+odds_type+\".xlsx\"))\n"
   ]
  },
  {
   "cell_type": "code",
   "execution_count": null,
   "metadata": {},
   "outputs": [],
   "source": []
  }
 ],
 "metadata": {
  "kernelspec": {
   "display_name": "Python 3",
   "language": "python",
   "name": "python3"
  },
  "language_info": {
   "codemirror_mode": {
    "name": "ipython",
    "version": 3
   },
   "file_extension": ".py",
   "mimetype": "text/x-python",
   "name": "python",
   "nbconvert_exporter": "python",
   "pygments_lexer": "ipython3",
   "version": "3.7.7"
  }
 },
 "nbformat": 4,
 "nbformat_minor": 5
}
